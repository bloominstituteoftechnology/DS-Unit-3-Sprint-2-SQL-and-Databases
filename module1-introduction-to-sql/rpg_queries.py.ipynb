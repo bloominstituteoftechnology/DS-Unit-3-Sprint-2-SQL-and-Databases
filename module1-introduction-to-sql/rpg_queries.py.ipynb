{
 "cells": [
  {
   "cell_type": "code",
   "execution_count": 1,
   "metadata": {},
   "outputs": [],
   "source": [
    "import sqlite3"
   ]
  },
  {
   "cell_type": "code",
   "execution_count": 3,
   "metadata": {},
   "outputs": [],
   "source": [
    "conn = sqlite3.connect('rpg_db.sqlite3')"
   ]
  },
  {
   "cell_type": "code",
   "execution_count": 4,
   "metadata": {},
   "outputs": [
    {
     "name": "stdout",
     "output_type": "stream",
     "text": [
      "Opened as needed\n"
     ]
    }
   ],
   "source": [
    "c = conn.cursor()\n",
    "print('Opened as needed')"
   ]
  },
  {
   "cell_type": "markdown",
   "metadata": {},
   "source": [
    "Use sqlite3 to load and write queries to explore the data, and answer the following questions:\n",
    "\n",
    "    How many total Characters are there?\n",
    "    How many of each specific subclass?\n",
    "    How many total Items?\n",
    "    How many of the Items are weapons? How many are not?\n",
    "    How many Items does each character have? (Return first 20 rows)\n",
    "    How many Weapons does each character have? (Return first 20 rows)\n",
    "    On average, how many Items does each Character have?\n",
    "    On average, how many Weapons does each character have?\n"
   ]
  },
  {
   "cell_type": "code",
   "execution_count": 45,
   "metadata": {},
   "outputs": [
    {
     "name": "stdout",
     "output_type": "stream",
     "text": [
      "The total number of characters is 302\n"
     ]
    }
   ],
   "source": [
    "c.execute('''SELECT COUNT(character_id) FROM charactercreator_character''')\n",
    "print(f\"The total number of characters is {c.fetchall()[0][0]}\")"
   ]
  },
  {
   "cell_type": "code",
   "execution_count": 66,
   "metadata": {},
   "outputs": [
    {
     "name": "stdout",
     "output_type": "stream",
     "text": [
      "There are 75 clerics\n",
      "There are 68 fighters\n",
      "There are 108 magi\n",
      "There are 11 necromancers\n",
      "There are 51 thiefs\n"
     ]
    }
   ],
   "source": [
    "\n",
    "c.execute(f'''SELECT COUNT(character_id) FROM charactercreator_character INNER JOIN charactercreator_cleric\n",
    "WHERE character_id == character_ptr_id ''')\n",
    "print(f\"There are {c.fetchall()[0][0]} clerics\")\n",
    "\n",
    "c.execute(f'''SELECT COUNT(character_id) FROM charactercreator_character INNER JOIN charactercreator_fighter\n",
    "WHERE character_id == character_ptr_id ''')\n",
    "print(f\"There are {c.fetchall()[0][0]} fighters\")\n",
    "\n",
    "\n",
    "c.execute(f'''SELECT COUNT(character_id) FROM charactercreator_character INNER JOIN charactercreator_mage\n",
    "WHERE character_id == character_ptr_id ''')\n",
    "print(f\"There are {c.fetchall()[0][0]} magi\")\n",
    "\n",
    "\n",
    "c.execute(f'''SELECT COUNT(character_id) FROM charactercreator_character INNER JOIN  charactercreator_necromancer\n",
    "WHERE character_id == mage_ptr_id ''')\n",
    "print(f\"There are {c.fetchall()[0][0]} necromancers\")\n",
    "\n",
    "\n",
    "c.execute(f'''SELECT COUNT(character_id) FROM charactercreator_character INNER JOIN charactercreator_thief\n",
    "WHERE character_id == character_ptr_id ''')\n",
    "print(f\"There are {c.fetchall()[0][0]} thiefs\")"
   ]
  },
  {
   "cell_type": "code",
   "execution_count": 20,
   "metadata": {},
   "outputs": [
    {
     "name": "stdout",
     "output_type": "stream",
     "text": [
      "The total number of armory items is 174\n"
     ]
    }
   ],
   "source": [
    "c.execute('''SELECT COUNT(item_id) FROM armory_item''')\n",
    "arm_item = c.fetchall()\n",
    "print(f\"The total number of armory items is {arm_item[0][0]}\")\n",
    "#print(arm_item[0][0])"
   ]
  },
  {
   "cell_type": "code",
   "execution_count": 21,
   "metadata": {},
   "outputs": [
    {
     "name": "stdout",
     "output_type": "stream",
     "text": [
      "The total number of armory weapon items is 37\n",
      "There are 137 items that are not weapons\n"
     ]
    }
   ],
   "source": [
    "c.execute('''SELECT COUNT(item_ptr_id) FROM armory_weapon''')\n",
    "arm_wep = c.fetchall()\n",
    "difference = arm_item[0][0] - arm_wep[0][0]\n",
    "print(f\"The total number of armory weapon items is {arm_wep[0][0]}\")\n",
    "print(f'There are {difference} items that are not weapons')"
   ]
  },
  {
   "cell_type": "code",
   "execution_count": 34,
   "metadata": {},
   "outputs": [
    {
     "name": "stdout",
     "output_type": "stream",
     "text": [
      "The total number of armory items per character is [('Aliquid iste optio reiciendi', 3), ('Optio dolorem ex a', 3), ('Minus c', 2), ('Sit ut repr', 4), ('At id recusandae expl', 4), ('Non nobis et of', 1), ('Perferendis', 5), ('Accusantium amet quidem eve', 3), ('Sed nostrum inventore error m', 4), ('Harum repellendus omnis od', 4), ('Itaque ut commodi,', 3), ('Molestiae quis', 3), ('Ali', 4), ('Tempora quod optio possimus il', 4), ('Sed itaque beatae pari', 4), ('Quam dolor', 1), ('Molestias expedita', 5), ('Lauda', 5), ('Incidunt sint perferen', 3), ('Laboriosa', 1)]\n"
     ]
    }
   ],
   "source": [
    "c.execute('''SELECT name,  COUNT(item_id) FROM charactercreator_character_inventory INNER JOIN \n",
    "charactercreator_character USING (character_id)\n",
    "GROUP BY name \n",
    "ORDER BY character_id LIMIT 20\n",
    "''');\n",
    "\n",
    "item_per_character = c.fetchall()\n",
    "print(f\"The total number of armory items per character is {item_per_character}\")"
   ]
  },
  {
   "cell_type": "code",
   "execution_count": 92,
   "metadata": {},
   "outputs": [
    {
     "name": "stdout",
     "output_type": "stream",
     "text": [
      "The total number of armory weapon items per character is [('At id recusandae expl', 2), ('Perferendis', 1), ('Itaque ut commodi,', 1), ('Laboriosa', 1), ('Dolorum nam reic', 1), ('Repellat ad numquam volu', 1), ('Doloribus neque', 1), ('Ab voluptas se', 3), ('In pariatur corpori', 2), ('Possimus ad dignissimos vel, a', 1), ('Ad necess', 1), ('Voluptates sunt voluptas volu', 1), ('Autem mollitia fuga lauda', 2), ('Sint quibusdam ob', 3), ('Rerum et o', 2), ('Doloribus dolore r', 2), ('Eaque su', 2), ('Vel molestias numqua', 1), ('Iste assumenda repellat q', 1), ('Quod tempora', 1)]\n"
     ]
    }
   ],
   "source": [
    "c.execute('''SELECT name,  COUNT(item_ptr_id) FROM charactercreator_character INNER JOIN \n",
    "armory_weapon, charactercreator_character_inventory USING (character_id)\n",
    "WHERE item_ptr_id == item_id\n",
    "GROUP BY name \n",
    "ORDER BY character_id LIMIT 20\n",
    "''');\n",
    "\n",
    "weapons_per_character = c.fetchall()\n",
    "print(f\"The total number of armory weapon items per character is {weapons_per_character}\")"
   ]
  },
  {
   "cell_type": "code",
   "execution_count": 93,
   "metadata": {},
   "outputs": [
    {
     "name": "stdout",
     "output_type": "stream",
     "text": [
      "The avg number of armory items per character is 2.9735099337748343\n"
     ]
    }
   ],
   "source": [
    "c.execute('''SELECT character_id, COUNT(item_id) FROM charactercreator_character_inventory\n",
    "''');\n",
    "\n",
    "item_per_character = c.fetchall()\n",
    "print(f\"The avg number of armory items per character is {item_per_character[0][1]/item_per_character[0][0]}\")"
   ]
  },
  {
   "cell_type": "code",
   "execution_count": 96,
   "metadata": {},
   "outputs": [
    {
     "name": "stdout",
     "output_type": "stream",
     "text": [
      "The total number of armory weapon items per character is 1.0\n"
     ]
    }
   ],
   "source": [
    "c.execute('''SELECT COUNT(character_id),COUNT(item_ptr_id) FROM charactercreator_character INNER JOIN \n",
    "armory_weapon, charactercreator_character_inventory USING (character_id)''');\n",
    "\n",
    "weapons_avgper_character = c.fetchall()\n",
    "print(f\"The total number of armory weapon items per character is {weapons_avgper_character[0][1]/weapons_avgper_character[0][1]}\")"
   ]
  },
  {
   "cell_type": "code",
   "execution_count": null,
   "metadata": {},
   "outputs": [],
   "source": []
  }
 ],
 "metadata": {
  "kernelspec": {
   "display_name": "Python 3",
   "language": "python",
   "name": "python3"
  },
  "language_info": {
   "codemirror_mode": {
    "name": "ipython",
    "version": 3
   },
   "file_extension": ".py",
   "mimetype": "text/x-python",
   "name": "python",
   "nbconvert_exporter": "python",
   "pygments_lexer": "ipython3",
   "version": "3.6.5"
  }
 },
 "nbformat": 4,
 "nbformat_minor": 2
}
