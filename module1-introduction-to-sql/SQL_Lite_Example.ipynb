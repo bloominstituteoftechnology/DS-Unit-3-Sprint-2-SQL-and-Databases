{
 "cells": [
  {
   "cell_type": "code",
   "execution_count": 1,
   "metadata": {},
   "outputs": [],
   "source": [
    "import sqlite3"
   ]
  },
  {
   "cell_type": "code",
   "execution_count": 2,
   "metadata": {},
   "outputs": [],
   "source": [
    "conn = sqlite3.connect('sample.sqlite')"
   ]
  },
  {
   "cell_type": "code",
   "execution_count": 3,
   "metadata": {},
   "outputs": [
    {
     "name": "stdout",
     "output_type": "stream",
     "text": [
      "Opened as needed\n"
     ]
    }
   ],
   "source": [
    "cursor = conn.cursor()\n",
    "print('Opened as needed')"
   ]
  },
  {
   "cell_type": "code",
   "execution_count": 4,
   "metadata": {},
   "outputs": [],
   "source": [
    "#conn.commit() : Runs command\n",
    "#and conn.close() : Closes that db after changes?"
   ]
  },
  {
   "cell_type": "code",
   "execution_count": 5,
   "metadata": {},
   "outputs": [
    {
     "data": {
      "text/plain": [
       "<sqlite3.Cursor at 0x1d4128abf80>"
      ]
     },
     "execution_count": 5,
     "metadata": {},
     "output_type": "execute_result"
    }
   ],
   "source": [
    "cursor.execute('''CREATE TABLE SampleTable\n",
    "        (ID INT PRIMARY KEY NOT NULL,\n",
    "        NAME            TEXT NOT NULL,\n",
    "        AGE             INT NOT NULL,\n",
    "        ADDRESS         CHAR(50),\n",
    "        MARKS           INT);''')"
   ]
  },
  {
   "cell_type": "code",
   "execution_count": 9,
   "metadata": {},
   "outputs": [],
   "source": [
    "cursor.execute('''INSERT INTO SampleTable (ID, NAME, AGE, ADDRESS, MARKS) \\\n",
    "        VALUES (1, \"Rohan\", 14, \"Delhi\", 200)''');\n",
    "cursor.execute('''INSERT INTO SampleTable (ID, NAME, AGE, ADDRESS, MARKS) \\\n",
    "        VALUES (2, \"Allen\", 15, \"Banglagore\", 150)''');\n",
    "cursor.execute('''INSERT INTO SampleTable (ID, NAME, AGE, ADDRESS, MARKS) \\\n",
    "        VALUES (3, \"Bob\", 16, \"Delhi\", 200)''');\n",
    "cursor.execute('''INSERT INTO SampleTable (ID, NAME, AGE, ADDRESS, MARKS) \\\n",
    "        VALUES (4, \"Palak\", 12, \"Kolkata\", 650)''');\n",
    "conn.commit()"
   ]
  },
  {
   "cell_type": "code",
   "execution_count": null,
   "metadata": {},
   "outputs": [],
   "source": [
    "for row in cursor.execute"
   ]
  }
 ],
 "metadata": {
  "kernelspec": {
   "display_name": "Python 3",
   "language": "python",
   "name": "python3"
  },
  "language_info": {
   "codemirror_mode": {
    "name": "ipython",
    "version": 3
   },
   "file_extension": ".py",
   "mimetype": "text/x-python",
   "name": "python",
   "nbconvert_exporter": "python",
   "pygments_lexer": "ipython3",
   "version": "3.6.5"
  }
 },
 "nbformat": 4,
 "nbformat_minor": 2
}
