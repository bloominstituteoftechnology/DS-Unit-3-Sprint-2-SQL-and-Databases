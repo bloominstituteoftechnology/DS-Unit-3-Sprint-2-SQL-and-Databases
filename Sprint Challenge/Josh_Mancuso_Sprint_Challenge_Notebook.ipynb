{
  "nbformat": 4,
  "nbformat_minor": 0,
  "metadata": {
    "colab": {
      "name": "Josh Mancuso Sprint Challenge Notebook.ipynb",
      "version": "0.3.2",
      "provenance": []
    },
    "kernelspec": {
      "name": "python3",
      "display_name": "Python 3"
    }
  },
  "cells": [
    {
      "cell_type": "code",
      "metadata": {
        "id": "rAem2hjtgn5f",
        "colab_type": "code",
        "colab": {
          "base_uri": "https://localhost:8080/",
          "height": 35
        },
        "outputId": "21411314-17a4-471a-95c4-8e25abb81f15"
      },
      "source": [
        "import sqlite3\n",
        "\n",
        "#Open a connection to a new (blank) database file `demo_data.sqlite3`\n",
        "conn = sqlite3.connect('demo_data.sqlite3')\n",
        "\n",
        "curs = conn.cursor()\n",
        "curs.execute(\"DROP TABLE IF EXISTS demo\")\n",
        "\n",
        "#crete the demo table\n",
        "create_demo_table = \"\"\"\n",
        "\tCREATE TABLE demo (\n",
        "\t\ts PRIMARY KEY,\n",
        "\t\tx INT,\n",
        "\t\ty INT\n",
        "\t)\n",
        "\"\"\"\n",
        "\n",
        "#execute the table creation \n",
        "curs.execute(create_demo_table)"
      ],
      "execution_count": 17,
      "outputs": [
        {
          "output_type": "execute_result",
          "data": {
            "text/plain": [
              "<sqlite3.Cursor at 0x7f9dc18a5e30>"
            ]
          },
          "metadata": {
            "tags": []
          },
          "execution_count": 17
        }
      ]
    },
    {
      "cell_type": "code",
      "metadata": {
        "id": "dtqhNJHhgopq",
        "colab_type": "code",
        "colab": {}
      },
      "source": [
        "row_tuples = [('g', 3, 9),\n",
        "              ('v', 5, 7),\n",
        "              ('f', 8, 7)]\n",
        "\n",
        "#iterate over each row in the tuples list and insert them into the titanic table:\n",
        "for row in row_tuples:\n",
        "  insert_row = \"INSERT INTO demo VALUES\" + str(row)\n",
        "  curs.execute(insert_row)\n",
        "\n",
        "conn.commit()"
      ],
      "execution_count": 0,
      "outputs": []
    },
    {
      "cell_type": "code",
      "metadata": {
        "id": "i4WPpGQfhPtr",
        "colab_type": "code",
        "colab": {
          "base_uri": "https://localhost:8080/",
          "height": 35
        },
        "outputId": "dff38b04-d5bb-4c60-ab93-3068b4910dd2"
      },
      "source": [
        "#re-establish a cursor object:\n",
        "curs = conn.cursor()\n",
        "\n",
        "#query all the data from the demo table\n",
        "curs.execute('SELECT * FROM demo')\n",
        "curs.fetchall()"
      ],
      "execution_count": 19,
      "outputs": [
        {
          "output_type": "execute_result",
          "data": {
            "text/plain": [
              "[('g', 3, 9), ('v', 5, 7), ('f', 8, 7)]"
            ]
          },
          "metadata": {
            "tags": []
          },
          "execution_count": 19
        }
      ]
    },
    {
      "cell_type": "code",
      "metadata": {
        "id": "F6PEG7qEh9lV",
        "colab_type": "code",
        "colab": {
          "base_uri": "https://localhost:8080/",
          "height": 235
        },
        "outputId": "0e2699b4-a070-4927-93eb-7ba26cdfaa28"
      },
      "source": [
        "questions = ['Q1: Count how many rows you have - it should be 3!',\n",
        "             'Q2: How many rows are there where both `x` and `y` are at least 5?',\n",
        "             'Q3: How many unique values of `y` are there?']\n",
        "\n",
        "queries = [\"SELECT COUNT(*) FROM demo;\",\n",
        "           \"SELECT COUNT(*) FROM demo WHERE x >= 5 AND y >= 5;\",\n",
        "           \"SELECT COUNT(DISTINCT y) FROM demo;\"]\n",
        "\n",
        "#iterate over and print each question, execute the corresponding query, print the result:\n",
        "for i in range(len(questions)):\n",
        "  print(questions[i])\n",
        "  curs.execute(queries[i])\n",
        "  print(curs.fetchall()[0][0])\n",
        "  print('\\n')"
      ],
      "execution_count": 20,
      "outputs": [
        {
          "output_type": "stream",
          "text": [
            "Q1: Count how many rows you have - it should be 3!\n",
            "3\n",
            "\n",
            "\n",
            "Q2: How many rows are there where both `x` and `y` are at least 5?\n",
            "2\n",
            "\n",
            "\n",
            "Q3: How many unique values of `y` are there?\n",
            "2\n",
            "\n",
            "\n"
          ],
          "name": "stdout"
        }
      ]
    },
    {
      "cell_type": "code",
      "metadata": {
        "id": "x10WCprw3RmB",
        "colab_type": "code",
        "colab": {
          "resources": {
            "http://localhost:8080/nbextensions/google.colab/files.js": {
              "data": "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",
              "ok": true,
              "headers": [
                [
                  "content-type",
                  "application/javascript"
                ]
              ],
              "status": 200,
              "status_text": ""
            }
          },
          "base_uri": "https://localhost:8080/",
          "height": 75
        },
        "outputId": "f6e2219a-b280-43e5-df40-b0fbba28af0a"
      },
      "source": [
        "from google.colab import files\n",
        "uploaded = files.upload()"
      ],
      "execution_count": 21,
      "outputs": [
        {
          "output_type": "display_data",
          "data": {
            "text/html": [
              "\n",
              "     <input type=\"file\" id=\"files-6dadcfca-bdc7-40f6-a561-f3b1ecfbe671\" name=\"files[]\" multiple disabled />\n",
              "     <output id=\"result-6dadcfca-bdc7-40f6-a561-f3b1ecfbe671\">\n",
              "      Upload widget is only available when the cell has been executed in the\n",
              "      current browser session. Please rerun this cell to enable.\n",
              "      </output>\n",
              "      <script src=\"/nbextensions/google.colab/files.js\"></script> "
            ],
            "text/plain": [
              "<IPython.core.display.HTML object>"
            ]
          },
          "metadata": {
            "tags": []
          }
        },
        {
          "output_type": "stream",
          "text": [
            "Saving northwind_small.sqlite3 to northwind_small.sqlite3\n"
          ],
          "name": "stdout"
        }
      ]
    },
    {
      "cell_type": "code",
      "metadata": {
        "id": "Ucmev8AX1fdV",
        "colab_type": "code",
        "colab": {
          "base_uri": "https://localhost:8080/",
          "height": 1328
        },
        "outputId": "b5140130-3e26-4af7-f0a8-96678135ecd2"
      },
      "source": [
        "###Part 2\n",
        "print('###Part 2:\\n')\n",
        "\n",
        "#Open a connection to northwind_small.sqlite3\n",
        "conn = sqlite3.connect('northwind_small.sqlite3')\n",
        "curs = conn.cursor()\n",
        "\n",
        "#Put the questions and quesries into lists:\n",
        "questions = ['Q1: What are the ten most expensive items (per unit price) in the database?',\n",
        "        \t 'Q2: What is the average age of an employee at the time of their hiring?',\n",
        "\t\t\t 'Q3: (*Stretch*) How does the average age of employee at hire vary by city?']\n",
        "\n",
        "queries = [\"SELECT ProductName, UnitPrice FROM Product ORDER BY UnitPrice DESC LIMIT 10;\",\n",
        "\t\t   \"SELECT ROUND(AVG(HireDate - BirthDate),1) AS Avg_Age FROM Employee;\",\n",
        "\t\t   \"SELECT CITY, AVG(HireDate - BirthDate) AS Avg_Age FROM Employee GROUP BY CITY;\"]\n",
        "\n",
        "#Iterate and execute the queries and print the questions and results:\n",
        "for i in range(len(questions)):\n",
        "\tprint(questions[i])\n",
        "\tcurs.execute(queries[i])\n",
        "\tresults = curs.fetchall()\n",
        "\tif len(results) == 1:\n",
        "\t\tprint(results)\n",
        "\telse:\n",
        "\t\tfor res in results:\n",
        "\t\t\tprint(res)\n",
        "\tprint('\\n')\n",
        "\n",
        "### Part 3 - Sailing the Northwind Seas\n",
        "print('###Part 3:\\n')\n",
        "\n",
        "questions = ['Q1: What are the ten most expensive items (per unit price) in the database *and* their suppliers?',\n",
        "\t\t\t 'Q2: What is the largest category (by number of unique products in it)?',\n",
        "\t\t\t \"Q3: (*Stretch*) Who's the employee with the most territories?\"]\n",
        "\n",
        "queries = [\"SELECT Product.ProductName, Product.UnitPrice, Supplier.CompanyName AS Supplier FROM Product, Supplier WHERE Product.SupplierID = Supplier.ID ORDER BY UnitPrice DESC LIMIT 10;\",\n",
        "\t\t   \"SELECT Category.CategoryName, COUNT(*) FROM Product, Category WHERE Product.CategoryID = Category.ID GROUP BY Product.CategoryID ORDER BY COUNT(*) DESC LIMIT 1;\",\n",
        "\t\t   \"SELECT Employee.FirstName, Employee.LastName, COUNT(*) FROM Employee, EmployeeTerritory WHERE EmployeeTerritory.EmployeeID = Employee.ID GROUP BY Employee.ID ORDER BY COUNT(*) DESC LIMIT 1;\"]\n",
        "\n",
        "#Iterate and execute the queries and print the questions and results:\n",
        "for i in range(len(questions)):\n",
        "\tprint(questions[i])\n",
        "\tcurs.execute(queries[i])\n",
        "\tresults = curs.fetchall()\n",
        "\tif len(results) == 1:\n",
        "\t\tprint(results)\n",
        "\telse:\n",
        "\t\tfor res in results:\n",
        "\t\t\tprint(res)\n",
        "\tprint('\\n')\n",
        "\n",
        "### Part 4 - Questions (and your Answers)\n",
        "print('###Part 4:\\n')\n",
        "\n",
        "questions = ['Q1: In the Northwind database, what is the type of relationship between the `Employee` & `Territory` tables?',\n",
        "\t\t\t '''Q2: What is a situation where a document store (like MongoDB) is appropriate, and what is a situation where \n",
        "it is not appropriate?''',\n",
        "\t\t\t 'Q3: What is \"NewSQL\", and what is it trying to achieve?']\n",
        "\n",
        "answers = ['A1: The employee to Territory relationship is \"one-to-many\".',\n",
        "\t\t   '''A2: A document store such as MongoDB is appropriate for storing large amounts of documents(data), usually \n",
        "unstructured or semi-structured. It is a non-relational database paradigm consisting of key-value pairs like JSON files \n",
        "or python dictionaries. The data can be broken into subsets and stored across multiple servers (generally someone else's \n",
        "machines). Basically, if the amount of data is extremely large, and a organized schema is not necessary, NoSQL paradigm is \n",
        "probably the way to go. However, in a situation where a relational approach is a necessity, such as with banking, the \n",
        "reliability of SQL is probably more important than the scalability of document oriented databases.''',\n",
        "\t\t   '''A3: NewSQL is a hybrid approach that seeks to combine the best of both types of database systems, namely by combining \n",
        "the transactional and consistency requirements of SQL with the scalability of NoSQL.''']\n",
        "\n",
        "for i in range(len(questions)):\n",
        "\tprint(questions[i])\n",
        "\tprint(answers[i])\n",
        "\tprint('\\n')"
      ],
      "execution_count": 22,
      "outputs": [
        {
          "output_type": "stream",
          "text": [
            "###Part 2:\n",
            "\n",
            "Q1: What are the ten most expensive items (per unit price) in the database?\n",
            "('Côte de Blaye', 263.5)\n",
            "('Thüringer Rostbratwurst', 123.79)\n",
            "('Mishi Kobe Niku', 97)\n",
            "(\"Sir Rodney's Marmalade\", 81)\n",
            "('Carnarvon Tigers', 62.5)\n",
            "('Raclette Courdavault', 55)\n",
            "('Manjimup Dried Apples', 53)\n",
            "('Tarte au sucre', 49.3)\n",
            "('Ipoh Coffee', 46)\n",
            "('Rössle Sauerkraut', 45.6)\n",
            "\n",
            "\n",
            "Q2: What is the average age of an employee at the time of their hiring?\n",
            "[(37.2,)]\n",
            "\n",
            "\n",
            "Q3: (*Stretch*) How does the average age of employee at hire vary by city?\n",
            "('Kirkland', 29.0)\n",
            "('London', 32.5)\n",
            "('Redmond', 56.0)\n",
            "('Seattle', 40.0)\n",
            "('Tacoma', 40.0)\n",
            "\n",
            "\n",
            "###Part 3:\n",
            "\n",
            "Q1: What are the ten most expensive items (per unit price) in the database *and* their suppliers?\n",
            "('Côte de Blaye', 263.5, 'Aux joyeux ecclésiastiques')\n",
            "('Thüringer Rostbratwurst', 123.79, 'Plutzer Lebensmittelgroßmärkte AG')\n",
            "('Mishi Kobe Niku', 97, 'Tokyo Traders')\n",
            "(\"Sir Rodney's Marmalade\", 81, 'Specialty Biscuits, Ltd.')\n",
            "('Carnarvon Tigers', 62.5, 'Pavlova, Ltd.')\n",
            "('Raclette Courdavault', 55, 'Gai pâturage')\n",
            "('Manjimup Dried Apples', 53, \"G'day, Mate\")\n",
            "('Tarte au sucre', 49.3, \"Forêts d'érables\")\n",
            "('Ipoh Coffee', 46, 'Leka Trading')\n",
            "('Rössle Sauerkraut', 45.6, 'Plutzer Lebensmittelgroßmärkte AG')\n",
            "\n",
            "\n",
            "Q2: What is the largest category (by number of unique products in it)?\n",
            "[('Confections', 13)]\n",
            "\n",
            "\n",
            "Q3: (*Stretch*) Who's the employee with the most territories?\n",
            "[('Robert', 'King', 10)]\n",
            "\n",
            "\n",
            "###Part 4:\n",
            "\n",
            "Q1: In the Northwind database, what is the type of relationship between the `Employee` & `Territory` tables?\n",
            "A1: The employee to Territory relationship is \"one-to-many\".\n",
            "\n",
            "\n",
            "Q2: What is a situation where a document store (like MongoDB) is appropriate, and what is a situation where \n",
            "it is not appropriate?\n",
            "A2: A document store such as MongoDB is appropriate for storing large amounts of documents(data), usually \n",
            "unstructured or semi-structured. It is a non-relational database paradigm consisting of key-value pairs like JSON files \n",
            "or python dictionaries. The data can be broken into subsets and stored across multiple servers (generally someone else's \n",
            "machines). Basically, if the amount of data is extremely large, and a organized schema is not necessary, NoSQL paradigm is \n",
            "probably the way to go. However, in a situation where a relational approach is a necessity, such as with banking, the \n",
            "reliability of SQL is probably more important than the scalability of document oriented databases.\n",
            "\n",
            "\n",
            "Q3: What is \"NewSQL\", and what is it trying to achieve?\n",
            "A3: NewSQL is a hybrid approach that seeks to combine the best of both types of database systems, namely by combining \n",
            "the transactional and consistency requirements of SQL with the scalability of NoSQL.\n",
            "\n",
            "\n"
          ],
          "name": "stdout"
        }
      ]
    }
  ]
}