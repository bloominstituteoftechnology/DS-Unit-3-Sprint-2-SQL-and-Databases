{
  "nbformat": 4,
  "nbformat_minor": 0,
  "metadata": {
    "colab": {
      "name": "Thursday Titanic Postgresql Assignment.ipynb",
      "version": "0.3.2",
      "provenance": []
    },
    "kernelspec": {
      "name": "python3",
      "display_name": "Python 3"
    }
  },
  "cells": [
    {
      "cell_type": "markdown",
      "metadata": {
        "id": "XsXkeIcUHWSi",
        "colab_type": "text"
      },
      "source": [
        "##Titanic"
      ]
    },
    {
      "cell_type": "code",
      "metadata": {
        "id": "QraDuCJWUrKu",
        "colab_type": "code",
        "outputId": "c2ed7fa8-c9f4-465e-a60e-36aa82ba6f5e",
        "colab": {
          "base_uri": "https://localhost:8080/",
          "height": 35
        }
      },
      "source": [
        "!pip install psycopg2-binary"
      ],
      "execution_count": 1,
      "outputs": [
        {
          "output_type": "stream",
          "text": [
            "Requirement already satisfied: psycopg2-binary in /usr/local/lib/python3.6/dist-packages (2.8.2)\n"
          ],
          "name": "stdout"
        }
      ]
    },
    {
      "cell_type": "code",
      "metadata": {
        "id": "Qm6ZdWMOVz_-",
        "colab_type": "code",
        "colab": {}
      },
      "source": [
        "import psycopg2\n",
        "import pandas as pd"
      ],
      "execution_count": 0,
      "outputs": []
    },
    {
      "cell_type": "code",
      "metadata": {
        "id": "vpZByem4HV5X",
        "colab_type": "code",
        "outputId": "17449de8-6d93-4c02-d228-28bf9c9b95c8",
        "colab": {
          "base_uri": "https://localhost:8080/",
          "height": 250
        }
      },
      "source": [
        "#load the titanic data into df:\n",
        "url = 'https://raw.githubusercontent.com/LambdaSchool/DS-Unit-3-Sprint-2-SQL-and-Databases/master/module2-sql-for-analysis/titanic.csv'\n",
        "df = pd.read_csv(url)\n",
        "\n",
        "#format age feature as integer \n",
        "df.Age = df.Age.astype('int')\n",
        "\n",
        "#remove apostrophes from names column:\n",
        "df['Name'] = df['Name'].str.replace(r\"[\\\"\\',]\", '')\n",
        "\n",
        "df.head()"
      ],
      "execution_count": 3,
      "outputs": [
        {
          "output_type": "execute_result",
          "data": {
            "text/html": [
              "<div>\n",
              "<style scoped>\n",
              "    .dataframe tbody tr th:only-of-type {\n",
              "        vertical-align: middle;\n",
              "    }\n",
              "\n",
              "    .dataframe tbody tr th {\n",
              "        vertical-align: top;\n",
              "    }\n",
              "\n",
              "    .dataframe thead th {\n",
              "        text-align: right;\n",
              "    }\n",
              "</style>\n",
              "<table border=\"1\" class=\"dataframe\">\n",
              "  <thead>\n",
              "    <tr style=\"text-align: right;\">\n",
              "      <th></th>\n",
              "      <th>Survived</th>\n",
              "      <th>Pclass</th>\n",
              "      <th>Name</th>\n",
              "      <th>Sex</th>\n",
              "      <th>Age</th>\n",
              "      <th>Siblings/Spouses Aboard</th>\n",
              "      <th>Parents/Children Aboard</th>\n",
              "      <th>Fare</th>\n",
              "    </tr>\n",
              "  </thead>\n",
              "  <tbody>\n",
              "    <tr>\n",
              "      <th>0</th>\n",
              "      <td>0</td>\n",
              "      <td>3</td>\n",
              "      <td>Mr. Owen Harris Braund</td>\n",
              "      <td>male</td>\n",
              "      <td>22</td>\n",
              "      <td>1</td>\n",
              "      <td>0</td>\n",
              "      <td>7.2500</td>\n",
              "    </tr>\n",
              "    <tr>\n",
              "      <th>1</th>\n",
              "      <td>1</td>\n",
              "      <td>1</td>\n",
              "      <td>Mrs. John Bradley (Florence Briggs Thayer) Cum...</td>\n",
              "      <td>female</td>\n",
              "      <td>38</td>\n",
              "      <td>1</td>\n",
              "      <td>0</td>\n",
              "      <td>71.2833</td>\n",
              "    </tr>\n",
              "    <tr>\n",
              "      <th>2</th>\n",
              "      <td>1</td>\n",
              "      <td>3</td>\n",
              "      <td>Miss. Laina Heikkinen</td>\n",
              "      <td>female</td>\n",
              "      <td>26</td>\n",
              "      <td>0</td>\n",
              "      <td>0</td>\n",
              "      <td>7.9250</td>\n",
              "    </tr>\n",
              "    <tr>\n",
              "      <th>3</th>\n",
              "      <td>1</td>\n",
              "      <td>1</td>\n",
              "      <td>Mrs. Jacques Heath (Lily May Peel) Futrelle</td>\n",
              "      <td>female</td>\n",
              "      <td>35</td>\n",
              "      <td>1</td>\n",
              "      <td>0</td>\n",
              "      <td>53.1000</td>\n",
              "    </tr>\n",
              "    <tr>\n",
              "      <th>4</th>\n",
              "      <td>0</td>\n",
              "      <td>3</td>\n",
              "      <td>Mr. William Henry Allen</td>\n",
              "      <td>male</td>\n",
              "      <td>35</td>\n",
              "      <td>0</td>\n",
              "      <td>0</td>\n",
              "      <td>8.0500</td>\n",
              "    </tr>\n",
              "  </tbody>\n",
              "</table>\n",
              "</div>"
            ],
            "text/plain": [
              "   Survived  Pclass  ... Parents/Children Aboard     Fare\n",
              "0         0       3  ...                       0   7.2500\n",
              "1         1       1  ...                       0  71.2833\n",
              "2         1       3  ...                       0   7.9250\n",
              "3         1       1  ...                       0  53.1000\n",
              "4         0       3  ...                       0   8.0500\n",
              "\n",
              "[5 rows x 8 columns]"
            ]
          },
          "metadata": {
            "tags": []
          },
          "execution_count": 3
        }
      ]
    },
    {
      "cell_type": "code",
      "metadata": {
        "id": "99BTVIYtQsKA",
        "colab_type": "code",
        "outputId": "05bbb1c8-e903-42f5-ec08-a0bba8865f55",
        "colab": {
          "base_uri": "https://localhost:8080/",
          "height": 254
        }
      },
      "source": [
        "df.info()"
      ],
      "execution_count": 4,
      "outputs": [
        {
          "output_type": "stream",
          "text": [
            "<class 'pandas.core.frame.DataFrame'>\n",
            "RangeIndex: 887 entries, 0 to 886\n",
            "Data columns (total 8 columns):\n",
            "Survived                   887 non-null int64\n",
            "Pclass                     887 non-null int64\n",
            "Name                       887 non-null object\n",
            "Sex                        887 non-null object\n",
            "Age                        887 non-null int64\n",
            "Siblings/Spouses Aboard    887 non-null int64\n",
            "Parents/Children Aboard    887 non-null int64\n",
            "Fare                       887 non-null float64\n",
            "dtypes: float64(1), int64(5), object(2)\n",
            "memory usage: 55.5+ KB\n"
          ],
          "name": "stdout"
        }
      ]
    },
    {
      "cell_type": "code",
      "metadata": {
        "id": "rU1y1CjCJRDA",
        "colab_type": "code",
        "colab": {}
      },
      "source": [
        "#function to format the dataframe data into tuples for each row to insert\n",
        "#into elephantsql\n",
        "\n",
        "def gen_row_tuples(df):\n",
        "  rows = [] \n",
        "  for idx, vals in df.iterrows():\n",
        "    row = [idx]\n",
        "    for val in vals.values:\n",
        "      row.append(val)\n",
        "    row = tuple(row)\n",
        "    rows.append(row)\n",
        "  return rows"
      ],
      "execution_count": 0,
      "outputs": []
    },
    {
      "cell_type": "code",
      "metadata": {
        "id": "cGqBLffTLz8o",
        "colab_type": "code",
        "outputId": "b159dc66-db24-4fba-c8bc-6af33e935c83",
        "colab": {
          "base_uri": "https://localhost:8080/",
          "height": 35
        }
      },
      "source": [
        "#function call, assign to variable\n",
        "titanic_row_tuples = gen_row_tuples(df)\n",
        "\n",
        "#inspect first row to make sure its formatted correctly:\n",
        "titanic_row_tuples[0]"
      ],
      "execution_count": 6,
      "outputs": [
        {
          "output_type": "execute_result",
          "data": {
            "text/plain": [
              "(0, 0, 3, 'Mr. Owen Harris Braund', 'male', 22, 1, 0, 7.25)"
            ]
          },
          "metadata": {
            "tags": []
          },
          "execution_count": 6
        }
      ]
    },
    {
      "cell_type": "code",
      "metadata": {
        "id": "2xZn5zDyPTV_",
        "colab_type": "code",
        "colab": {}
      },
      "source": [
        "#Connect to elephantSQL instance:\n",
        "\n",
        "dbname = 'mhodwfds'\n",
        "user = 'mhodwfds'\n",
        "password = <redacted>\n",
        "host = 'raja.db.elephantsql.com'\n",
        "\n",
        "pg_conn = psycopg2.connect(dbname=dbname, user=user,\n",
        "                           password=password, host=host)\n",
        "\n",
        "pg_curs = pg_conn.cursor()"
      ],
      "execution_count": 0,
      "outputs": []
    },
    {
      "cell_type": "code",
      "metadata": {
        "id": "rE_qPqZMHYl2",
        "colab_type": "code",
        "colab": {}
      },
      "source": [
        "#clear the postgresql instance of the titanic table (if it exists):\n",
        "pg_curs.execute(\"DROP TABLE IF EXISTS titanic\")\n",
        "\n",
        "#assign CREATE table statement to variable\n",
        "\n",
        "create_titanic_table = \"\"\"\n",
        "CREATE TABLE titanic (\n",
        "  index SERIAL PRIMARY KEY,\n",
        "  survived INT,\n",
        "  pclass INT,\n",
        "  name VARCHAR(85),\n",
        "  sex VARCHAR(10),\n",
        "  age INT,\n",
        "  sibs_spouse INT,\n",
        "  par_child INT,\n",
        "  fare REAL\n",
        ")\n",
        "\"\"\"\n",
        "\n",
        "#execute the table creation in the postgresql instance\n",
        "pg_curs.execute(create_titanic_table)"
      ],
      "execution_count": 0,
      "outputs": []
    },
    {
      "cell_type": "code",
      "metadata": {
        "id": "3nvXTyH6N1sD",
        "colab_type": "code",
        "colab": {}
      },
      "source": [
        "#iterate over each row in the tuples list and insert them into the titanic table:\n",
        "for row in titanic_row_tuples:\n",
        "  insert_row = \"INSERT INTO titanic VALUES\" + str(row)\n",
        "  pg_curs.execute(insert_row)\n",
        "\n",
        "pg_conn.commit()"
      ],
      "execution_count": 0,
      "outputs": []
    },
    {
      "cell_type": "code",
      "metadata": {
        "id": "M-ynppQoH-b5",
        "colab_type": "code",
        "colab": {
          "base_uri": "https://localhost:8080/",
          "height": 399
        },
        "outputId": "c84edfc0-e105-47c1-c536-a75241ed4e73"
      },
      "source": [
        "#re-establish a cursor object:\n",
        "pg_curs = pg_conn.cursor()\n",
        "\n",
        "#query all the data from the titanic table\n",
        "pg_curs.execute('SELECT * FROM titanic')\n",
        "\n",
        "#assign the results to variable\n",
        "pg_titanic = pg_curs.fetchall()\n",
        "\n",
        "#inspect the first 5 rows of the table:\n",
        "pg_titanic[:5]"
      ],
      "execution_count": 10,
      "outputs": [
        {
          "output_type": "execute_result",
          "data": {
            "text/plain": [
              "[(0, 0, 3, 'Mr. Owen Harris Braund', 'male', 22, 1, 0, 7.25),\n",
              " (1,\n",
              "  1,\n",
              "  1,\n",
              "  'Mrs. John Bradley (Florence Briggs Thayer) Cumings',\n",
              "  'female',\n",
              "  38,\n",
              "  1,\n",
              "  0,\n",
              "  71.2833),\n",
              " (2, 1, 3, 'Miss. Laina Heikkinen', 'female', 26, 0, 0, 7.925),\n",
              " (3,\n",
              "  1,\n",
              "  1,\n",
              "  'Mrs. Jacques Heath (Lily May Peel) Futrelle',\n",
              "  'female',\n",
              "  35,\n",
              "  1,\n",
              "  0,\n",
              "  53.1),\n",
              " (4, 0, 3, 'Mr. William Henry Allen', 'male', 35, 0, 0, 8.05)]"
            ]
          },
          "metadata": {
            "tags": []
          },
          "execution_count": 10
        }
      ]
    },
    {
      "cell_type": "markdown",
      "metadata": {
        "id": "WrlQQKcWP4gO",
        "colab_type": "text"
      },
      "source": [
        "##Assignment Queries:"
      ]
    },
    {
      "cell_type": "markdown",
      "metadata": {
        "id": "3MJXkjVDQVxV",
        "colab_type": "text"
      },
      "source": [
        "\n",
        "- How many passengers survived, and how many died?\n",
        "- How many passengers were in each class?\n",
        "- How many passengers survived/died within each class?\n",
        "- What was the average age of survivors vs nonsurvivors?\n",
        "- What was the average age of each passenger class?\n",
        "- What was the average fare by passenger class? By survival?\n",
        "- How many siblings/spouses aboard on average, by passenger class? By survival?\n",
        "- How many parents/children aboard on average, by passenger class? By survival?\n",
        "- Do any passengers have the same name?\n",
        "- (Bonus! Hard, may require pulling and processing with Python) How many married couples were aboard the Titanic? Assume that two people (one Mr. and one Mrs.) with the same last name and with at least 1 sibling/spouse aboard are a married couple.\n"
      ]
    },
    {
      "cell_type": "code",
      "metadata": {
        "id": "UIkN5pJZQ1Tz",
        "colab_type": "code",
        "colab": {
          "base_uri": "https://localhost:8080/",
          "height": 1290
        },
        "outputId": "039dabf0-9e5e-490f-f33c-8da74dce8d7d"
      },
      "source": [
        "#create a list containing all the questions:\n",
        "questions = ['Q1: How many passengers survived, and how many died?\\n(survived / count)\\n',\n",
        "             'Q2: How many passengers were in each class?\\n(pclass / count)\\n',\n",
        "             'Q3: How many passengers survived/died within each class?\\n(pclass / survived / count)\\n',\n",
        "             'Q4: What was the average age of survivors vs nonsurvivors?\\n(survived / avg age)\\n',\n",
        "             'Q5: What was the average age of each passenger class?\\n(pclass / avg age)\\n',\n",
        "             'Q6: What was the average fare by passenger class?\\n(pclass / avg fare)\\n', \n",
        "             'Q7: What was the average fare by survival?\\n(survived / avg fare)\\n',\n",
        "             'Q8: How many siblings/spouses aboard on average, by passenger class?\\n(pclass / avg siblings & spouses)\\n', \n",
        "             'Q9: How many siblings/spouses aboard on average by survival?\\n(survived / avg siblings & spouses)\\n',\n",
        "             'Q10: How many parents/children aboard on average, by passenger class?\\n(pclass / avg parents & children)\\n',\n",
        "             'Q11: How many parents/children aboard on average by survival?\\n(survived / avg parents & children)\\n',\n",
        "             'Q12: Do any passengers have the same name?']    \n",
        "\n",
        "#create a list of corresponding SQL queries for each question:\n",
        "queries = [\"SELECT survived, COUNT(*) FROM titanic GROUP BY survived;\", \n",
        "           \"SELECT pclass, COUNT(*) FROM titanic GROUP BY pclass ORDER BY pclass;\",\n",
        "           \"SELECT pclass, survived, COUNT(*) FROM titanic GROUP BY pclass, survived ORDER BY pclass, survived;\",\n",
        "           \"SELECT survived, ROUND(AVG(age), 4) FROM titanic GROUP BY survived;\",\n",
        "           \"SELECT pclass, ROUND(AVG(age), 4) FROM titanic GROUP BY pclass ORDER BY pclass;\",\n",
        "           \"SELECT pclass, AVG(fare) FROM titanic GROUP BY pclass ORDER BY pclass;\",\n",
        "           \"SELECT survived, AVG(fare) FROM titanic GROUP BY survived;\",\n",
        "           \"SELECT pclass, ROUND(AVG(sibs_spouse), 4) FROM titanic GROUP BY pclass ORDER BY pclass;\",\n",
        "           \"SELECT survived, ROUND(AVG(sibs_spouse), 4) FROM titanic GROUP BY survived;\",\n",
        "           \"SELECT pclass, ROUND(AVG(par_child), 4) FROM titanic GROUP BY pclass ORDER BY pclass;\",\n",
        "           \"SELECT survived, ROUND(AVG(par_child), 4) FROM titanic GROUP BY survived;\",\n",
        "           \"SELECT name, COUNT(name) FROM titanic GROUP BY name HAVING COUNT(name) > 1;\"]\n",
        "\n",
        "#iterate over and print each question, execute the corresponding query, print the result:\n",
        "for i in range(len(questions)):\n",
        "  print(questions[i])\n",
        "  pg_curs.execute(queries[i])\n",
        "  print(pg_curs.fetchall())\n",
        "  print('\\n')"
      ],
      "execution_count": 11,
      "outputs": [
        {
          "output_type": "stream",
          "text": [
            "Q1: How many passengers survived, and how many died?\n",
            "(survived / count)\n",
            "\n",
            "[(0, 545), (1, 342)]\n",
            "\n",
            "\n",
            "Q2: How many passengers were in each class?\n",
            "(pclass / count)\n",
            "\n",
            "[(1, 216), (2, 184), (3, 487)]\n",
            "\n",
            "\n",
            "Q3: How many passengers survived/died within each class?\n",
            "(pclass / survived / count)\n",
            "\n",
            "[(1, 0, 80), (1, 1, 136), (2, 0, 97), (2, 1, 87), (3, 0, 368), (3, 1, 119)]\n",
            "\n",
            "\n",
            "Q4: What was the average age of survivors vs nonsurvivors?\n",
            "(survived / avg age)\n",
            "\n",
            "[(0, Decimal('30.1229')), (1, Decimal('28.3918'))]\n",
            "\n",
            "\n",
            "Q5: What was the average age of each passenger class?\n",
            "(pclass / avg age)\n",
            "\n",
            "[(1, Decimal('38.7824')), (2, Decimal('29.8478')), (3, Decimal('25.1704'))]\n",
            "\n",
            "\n",
            "Q6: What was the average fare by passenger class?\n",
            "(pclass / avg fare)\n",
            "\n",
            "[(1, 84.154687528257), (2, 20.6621831810993), (3, 13.7077075010452)]\n",
            "\n",
            "\n",
            "Q7: What was the average fare by survival?\n",
            "(survived / avg fare)\n",
            "\n",
            "[(0, 22.2085840951412), (1, 48.3954076976107)]\n",
            "\n",
            "\n",
            "Q8: How many siblings/spouses aboard on average, by passenger class?\n",
            "(pclass / avg siblings & spouses)\n",
            "\n",
            "[(1, Decimal('0.4167')), (2, Decimal('0.4022')), (3, Decimal('0.6201'))]\n",
            "\n",
            "\n",
            "Q9: How many siblings/spouses aboard on average by survival?\n",
            "(survived / avg siblings & spouses)\n",
            "\n",
            "[(0, Decimal('0.5578')), (1, Decimal('0.4737'))]\n",
            "\n",
            "\n",
            "Q10: How many parents/children aboard on average, by passenger class?\n",
            "(pclass / avg parents & children)\n",
            "\n",
            "[(1, Decimal('0.3565')), (2, Decimal('0.3804')), (3, Decimal('0.3963'))]\n",
            "\n",
            "\n",
            "Q11: How many parents/children aboard on average by survival?\n",
            "(survived / avg parents & children)\n",
            "\n",
            "[(0, Decimal('0.3321')), (1, Decimal('0.4649'))]\n",
            "\n",
            "\n",
            "Q12: Do any passengers have the same name?\n",
            "[]\n",
            "\n",
            "\n"
          ],
          "name": "stdout"
        }
      ]
    },
    {
      "cell_type": "markdown",
      "metadata": {
        "colab_type": "text",
        "id": "2EtCuWYsgXL2"
      },
      "source": [
        "###Bonus Question!\n",
        "\n",
        "Hard, may require pulling and processing with Python) How many married couples were aboard the Titanic? Assume that two people (one Mr. and one Mrs.) with the same last name and with at least 1 sibling/spouse aboard are a married couple.\n"
      ]
    },
    {
      "cell_type": "code",
      "metadata": {
        "id": "rgAZiMkJQ1RG",
        "colab_type": "code",
        "colab": {
          "base_uri": "https://localhost:8080/",
          "height": 35
        },
        "outputId": "d40883d5-d833-4ca0-aa66-ac4cb9d7c457"
      },
      "source": [
        "#SQL query to grab the names of passengers w/ sibs_spouese >= 1\n",
        "\n",
        "query = \"SELECT name FROM titanic where sibs_spouse >= 1\"\n",
        "pg_curs.execute(query)\n",
        "\n",
        "#assign to variable called names\n",
        "names = pg_curs.fetchall()\n",
        "\n",
        "#function to count married couples as a matching instance of Mr. lastname and Mrs. lastname\n",
        "def count_married_couples(names):\n",
        "  \n",
        "  def name_wrangle(name):\n",
        "    name = name.split(' ')\n",
        "    #grab the salutation (name[0]) and the lastname (name[1])\n",
        "    return [name[0], name[-1]]\n",
        "  \n",
        "  #instantiate empty lists for Mr. and Mrs.\n",
        "  misters = []\n",
        "  misses = []\n",
        "\n",
        "  for name in names:\n",
        "    #split into salutation and lastname (ignores salutations that arent Mr. or Mrs.)\n",
        "    wrangled = name_wrangle(name[0])\n",
        "    if wrangled[0] == 'Mr.':\n",
        "      misters.append(wrangled[1])\n",
        "    elif wrangled[0] == 'Mrs.':\n",
        "      misses.append(wrangled[1])\n",
        "      \n",
        "  married_surnames = []\n",
        "  #iterate over every name in misters:\n",
        "  for name in misters:\n",
        "    #if match found in misses\n",
        "    if name in misses:\n",
        "      #log the match in list of matching surnames:\n",
        "      married_surnames.append(name)\n",
        "      #remove the first instance of that surname from misses\n",
        "      misses.remove(name)    \n",
        "  return len(married_surnames) #count of married couples\n",
        "\n",
        "#call the function and pass in the names from the SQL query\n",
        "count_married_couples(names)"
      ],
      "execution_count": 12,
      "outputs": [
        {
          "output_type": "execute_result",
          "data": {
            "text/plain": [
              "48"
            ]
          },
          "metadata": {
            "tags": []
          },
          "execution_count": 12
        }
      ]
    }
  ]
}