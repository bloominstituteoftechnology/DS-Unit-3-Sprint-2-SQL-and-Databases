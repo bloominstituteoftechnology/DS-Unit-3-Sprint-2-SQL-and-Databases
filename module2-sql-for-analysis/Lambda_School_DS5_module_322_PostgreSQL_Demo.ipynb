{
  "nbformat": 4,
  "nbformat_minor": 0,
  "metadata": {
    "colab": {
      "name": "Lambda School DS5 module 322 - PostgreSQL Demo.ipynb",
      "version": "0.3.2",
      "provenance": [],
      "include_colab_link": true
    },
    "kernelspec": {
      "name": "python3",
      "display_name": "Python 3"
    }
  },
  "cells": [
    {
      "cell_type": "markdown",
      "metadata": {
        "id": "view-in-github",
        "colab_type": "text"
      },
      "source": [
        "<a href=\"https://colab.research.google.com/github/MAL3X-01/DS-Unit-3-Sprint-2-SQL-and-Databases/blob/master/module2-sql-for-analysis/Lambda_School_DS5_module_322_PostgreSQL_Demo.ipynb\" target=\"_parent\"><img src=\"https://colab.research.google.com/assets/colab-badge.svg\" alt=\"Open In Colab\"/></a>"
      ]
    },
    {
      "cell_type": "markdown",
      "metadata": {
        "id": "1NCrcJJamNgN",
        "colab_type": "text"
      },
      "source": [
        "# Live demo code for connecting to PostgreSQL from Python."
      ]
    },
    {
      "cell_type": "code",
      "metadata": {
        "id": "F-4JkmVomL6b",
        "colab_type": "code",
        "outputId": "313b8379-db92-4f20-d7f6-4f8922f647d7",
        "colab": {
          "base_uri": "https://localhost:8080/",
          "height": 124
        }
      },
      "source": [
        "!pip install psycopg2-binary"
      ],
      "execution_count": 0,
      "outputs": [
        {
          "output_type": "stream",
          "text": [
            "Collecting psycopg2-binary\n",
            "\u001b[?25l  Downloading https://files.pythonhosted.org/packages/b1/35/75c9c2d9cfc073ab6c42b2d8e91ff58c9b99f4ed7ed56b36647642e6080e/psycopg2_binary-2.8.3-cp36-cp36m-manylinux1_x86_64.whl (2.9MB)\n",
            "\u001b[K     |████████████████████████████████| 2.9MB 4.7MB/s \n",
            "\u001b[?25hInstalling collected packages: psycopg2-binary\n",
            "Successfully installed psycopg2-binary-2.8.3\n"
          ],
          "name": "stdout"
        }
      ]
    },
    {
      "cell_type": "code",
      "metadata": {
        "id": "3OvLpgZF4Eiu",
        "colab_type": "code",
        "colab": {}
      },
      "source": [
        "import psycopg2"
      ],
      "execution_count": 0,
      "outputs": []
    },
    {
      "cell_type": "code",
      "metadata": {
        "id": "jPzYuy6Y4RKQ",
        "colab_type": "code",
        "outputId": "7034d444-aa3e-49ab-db4c-83d8abf899d5",
        "colab": {
          "base_uri": "https://localhost:8080/",
          "height": 816
        }
      },
      "source": [
        "dir(psycopg2)"
      ],
      "execution_count": 0,
      "outputs": [
        {
          "output_type": "execute_result",
          "data": {
            "text/plain": [
              "['BINARY',\n",
              " 'Binary',\n",
              " 'DATETIME',\n",
              " 'DataError',\n",
              " 'DatabaseError',\n",
              " 'Date',\n",
              " 'DateFromTicks',\n",
              " 'Error',\n",
              " 'IntegrityError',\n",
              " 'InterfaceError',\n",
              " 'InternalError',\n",
              " 'NUMBER',\n",
              " 'NotSupportedError',\n",
              " 'OperationalError',\n",
              " 'ProgrammingError',\n",
              " 'ROWID',\n",
              " 'STRING',\n",
              " 'Time',\n",
              " 'TimeFromTicks',\n",
              " 'Timestamp',\n",
              " 'TimestampFromTicks',\n",
              " 'Warning',\n",
              " '__builtins__',\n",
              " '__cached__',\n",
              " '__doc__',\n",
              " '__file__',\n",
              " '__libpq_version__',\n",
              " '__loader__',\n",
              " '__name__',\n",
              " '__package__',\n",
              " '__path__',\n",
              " '__spec__',\n",
              " '__version__',\n",
              " '_connect',\n",
              " '_ext',\n",
              " '_json',\n",
              " '_psycopg',\n",
              " '_range',\n",
              " 'apilevel',\n",
              " 'compat',\n",
              " 'connect',\n",
              " 'errors',\n",
              " 'extensions',\n",
              " 'paramstyle',\n",
              " 'threadsafety',\n",
              " 'tz']"
            ]
          },
          "metadata": {
            "tags": []
          },
          "execution_count": 3
        }
      ]
    },
    {
      "cell_type": "code",
      "metadata": {
        "id": "d0Fc2Nqw4Sa0",
        "colab_type": "code",
        "outputId": "e327bd22-6980-465b-acb2-98291d2b0914",
        "colab": {
          "base_uri": "https://localhost:8080/",
          "height": 645
        }
      },
      "source": [
        "help(psycopg2.connect)"
      ],
      "execution_count": 0,
      "outputs": [
        {
          "output_type": "stream",
          "text": [
            "Help on function connect in module psycopg2:\n",
            "\n",
            "connect(dsn=None, connection_factory=None, cursor_factory=None, **kwargs)\n",
            "    Create a new database connection.\n",
            "    \n",
            "    The connection parameters can be specified as a string:\n",
            "    \n",
            "        conn = psycopg2.connect(\"dbname=test user=postgres password=secret\")\n",
            "    \n",
            "    or using a set of keyword arguments:\n",
            "    \n",
            "        conn = psycopg2.connect(database=\"test\", user=\"postgres\", password=\"secret\")\n",
            "    \n",
            "    Or as a mix of both. The basic connection parameters are:\n",
            "    \n",
            "    - *dbname*: the database name\n",
            "    - *database*: the database name (only as keyword argument)\n",
            "    - *user*: user name used to authenticate\n",
            "    - *password*: password used to authenticate\n",
            "    - *host*: database host address (defaults to UNIX socket if not provided)\n",
            "    - *port*: connection port number (defaults to 5432 if not provided)\n",
            "    \n",
            "    Using the *connection_factory* parameter a different class or connections\n",
            "    factory can be specified. It should be a callable object taking a dsn\n",
            "    argument.\n",
            "    \n",
            "    Using the *cursor_factory* parameter, a new default cursor factory will be\n",
            "    used by cursor().\n",
            "    \n",
            "    Using *async*=True an asynchronous connection will be created. *async_* is\n",
            "    a valid alias (for Python versions where ``async`` is a keyword).\n",
            "    \n",
            "    Any other keyword parameter will be passed to the underlying client\n",
            "    library: the list of supported parameters depends on the library version.\n",
            "\n"
          ],
          "name": "stdout"
        }
      ]
    },
    {
      "cell_type": "code",
      "metadata": {
        "id": "dlOoLWl64lYe",
        "colab_type": "code",
        "colab": {}
      },
      "source": [
        "dbname = 'qehzlkzw'\n",
        "user = 'qehzlkzw'\n",
        "password = 'BLANK'  # Don't commit this!\n",
        "host = 'raja.db.elephantsql.com'"
      ],
      "execution_count": 0,
      "outputs": []
    },
    {
      "cell_type": "code",
      "metadata": {
        "id": "rqswMfP35P8-",
        "colab_type": "code",
        "colab": {}
      },
      "source": [
        "pg_conn = psycopg2.connect(dbname=dbname, user=user,\n",
        "                           password=password, host=host)"
      ],
      "execution_count": 0,
      "outputs": []
    },
    {
      "cell_type": "code",
      "metadata": {
        "id": "pfABXRKJ7AJZ",
        "colab_type": "code",
        "outputId": "42790790-6f1a-4c81-ff7a-98cda0691068",
        "colab": {
          "base_uri": "https://localhost:8080/",
          "height": 54
        }
      },
      "source": [
        "pg_conn"
      ],
      "execution_count": 0,
      "outputs": [
        {
          "output_type": "execute_result",
          "data": {
            "text/plain": [
              "<connection object at 0x7f0752ef02b8; dsn: 'user=qehzlkzw password=xxx dbname=qehzlkzw host=raja.db.elephantsql.com', closed: 0>"
            ]
          },
          "metadata": {
            "tags": []
          },
          "execution_count": 10
        }
      ]
    },
    {
      "cell_type": "code",
      "metadata": {
        "id": "fT5aMEbA7Cpv",
        "colab_type": "code",
        "outputId": "abaf0e0b-3575-45c2-8008-bd7d6146bb44",
        "colab": {
          "base_uri": "https://localhost:8080/",
          "height": 1000
        }
      },
      "source": [
        "dir(pg_conn)"
      ],
      "execution_count": 0,
      "outputs": [
        {
          "output_type": "execute_result",
          "data": {
            "text/plain": [
              "['DataError',\n",
              " 'DatabaseError',\n",
              " 'Error',\n",
              " 'IntegrityError',\n",
              " 'InterfaceError',\n",
              " 'InternalError',\n",
              " 'NotSupportedError',\n",
              " 'OperationalError',\n",
              " 'ProgrammingError',\n",
              " 'Warning',\n",
              " '__class__',\n",
              " '__delattr__',\n",
              " '__dir__',\n",
              " '__doc__',\n",
              " '__enter__',\n",
              " '__eq__',\n",
              " '__exit__',\n",
              " '__format__',\n",
              " '__ge__',\n",
              " '__getattribute__',\n",
              " '__gt__',\n",
              " '__hash__',\n",
              " '__init__',\n",
              " '__init_subclass__',\n",
              " '__le__',\n",
              " '__lt__',\n",
              " '__ne__',\n",
              " '__new__',\n",
              " '__reduce__',\n",
              " '__reduce_ex__',\n",
              " '__repr__',\n",
              " '__setattr__',\n",
              " '__sizeof__',\n",
              " '__str__',\n",
              " '__subclasshook__',\n",
              " 'async',\n",
              " 'async_',\n",
              " 'autocommit',\n",
              " 'binary_types',\n",
              " 'cancel',\n",
              " 'close',\n",
              " 'closed',\n",
              " 'commit',\n",
              " 'cursor',\n",
              " 'cursor_factory',\n",
              " 'deferrable',\n",
              " 'dsn',\n",
              " 'encoding',\n",
              " 'fileno',\n",
              " 'get_backend_pid',\n",
              " 'get_dsn_parameters',\n",
              " 'get_native_connection',\n",
              " 'get_parameter_status',\n",
              " 'get_transaction_status',\n",
              " 'info',\n",
              " 'isexecuting',\n",
              " 'isolation_level',\n",
              " 'lobject',\n",
              " 'notices',\n",
              " 'notifies',\n",
              " 'pgconn_ptr',\n",
              " 'poll',\n",
              " 'protocol_version',\n",
              " 'readonly',\n",
              " 'reset',\n",
              " 'rollback',\n",
              " 'server_version',\n",
              " 'set_client_encoding',\n",
              " 'set_isolation_level',\n",
              " 'set_session',\n",
              " 'status',\n",
              " 'string_types',\n",
              " 'tpc_begin',\n",
              " 'tpc_commit',\n",
              " 'tpc_prepare',\n",
              " 'tpc_recover',\n",
              " 'tpc_rollback',\n",
              " 'xid']"
            ]
          },
          "metadata": {
            "tags": []
          },
          "execution_count": 11
        }
      ]
    },
    {
      "cell_type": "code",
      "metadata": {
        "id": "sElIPVWJ7Jze",
        "colab_type": "code",
        "colab": {}
      },
      "source": [
        "pg_curs = pg_conn.cursor()"
      ],
      "execution_count": 0,
      "outputs": []
    },
    {
      "cell_type": "code",
      "metadata": {
        "id": "d3ciB5Bv7PG_",
        "colab_type": "code",
        "outputId": "d27f5af4-6142-411b-fc2a-793bd09ecf33",
        "colab": {
          "base_uri": "https://localhost:8080/",
          "height": 54
        }
      },
      "source": [
        "pg_curs.execute('SELECT * FROM test_table;')\n",
        "pg_curs.fetchall()"
      ],
      "execution_count": 0,
      "outputs": [
        {
          "output_type": "execute_result",
          "data": {
            "text/plain": [
              "[(2, 'Another row, with JSON', {'a': 1, 'b': ['dog', 'cat', 42], 'c': True})]"
            ]
          },
          "metadata": {
            "tags": []
          },
          "execution_count": 13
        }
      ]
    },
    {
      "cell_type": "markdown",
      "metadata": {
        "id": "LXGXH9li7sTO",
        "colab_type": "text"
      },
      "source": [
        "## What we're doing\n",
        "\n",
        "We'd like to get the RPG data out of SQLite, and insert it into PostgreSQL.\n",
        "\n",
        "Aka - we're making a data pipeline! Aka - an ETL (Extract Transform Load)."
      ]
    },
    {
      "cell_type": "code",
      "metadata": {
        "id": "LPCFQFJI7S3v",
        "colab_type": "code",
        "outputId": "8295278c-3632-4ab3-b909-6ff9bd51019f",
        "colab": {
          "base_uri": "https://localhost:8080/",
          "height": 384
        }
      },
      "source": [
        "!wget https://github.com/LambdaSchool/DS-Unit-3-Sprint-2-SQL-and-Databases/blob/master/module1-introduction-to-sql/rpg_db.sqlite3?raw=true"
      ],
      "execution_count": 0,
      "outputs": [
        {
          "output_type": "stream",
          "text": [
            "--2019-08-13 17:07:33--  https://github.com/LambdaSchool/DS-Unit-3-Sprint-2-SQL-and-Databases/blob/master/module1-introduction-to-sql/rpg_db.sqlite3?raw=true\n",
            "Resolving github.com (github.com)... 192.30.255.112\n",
            "Connecting to github.com (github.com)|192.30.255.112|:443... connected.\n",
            "HTTP request sent, awaiting response... 302 Found\n",
            "Location: https://github.com/LambdaSchool/DS-Unit-3-Sprint-2-SQL-and-Databases/raw/master/module1-introduction-to-sql/rpg_db.sqlite3 [following]\n",
            "--2019-08-13 17:07:33--  https://github.com/LambdaSchool/DS-Unit-3-Sprint-2-SQL-and-Databases/raw/master/module1-introduction-to-sql/rpg_db.sqlite3\n",
            "Reusing existing connection to github.com:443.\n",
            "HTTP request sent, awaiting response... 302 Found\n",
            "Location: https://raw.githubusercontent.com/LambdaSchool/DS-Unit-3-Sprint-2-SQL-and-Databases/master/module1-introduction-to-sql/rpg_db.sqlite3 [following]\n",
            "--2019-08-13 17:07:33--  https://raw.githubusercontent.com/LambdaSchool/DS-Unit-3-Sprint-2-SQL-and-Databases/master/module1-introduction-to-sql/rpg_db.sqlite3\n",
            "Resolving raw.githubusercontent.com (raw.githubusercontent.com)... 151.101.0.133, 151.101.64.133, 151.101.128.133, ...\n",
            "Connecting to raw.githubusercontent.com (raw.githubusercontent.com)|151.101.0.133|:443... connected.\n",
            "HTTP request sent, awaiting response... 200 OK\n",
            "Length: 253952 (248K) [application/octet-stream]\n",
            "Saving to: ‘rpg_db.sqlite3?raw=true’\n",
            "\n",
            "rpg_db.sqlite3?raw= 100%[===================>] 248.00K  --.-KB/s    in 0.03s   \n",
            "\n",
            "2019-08-13 17:07:34 (8.21 MB/s) - ‘rpg_db.sqlite3?raw=true’ saved [253952/253952]\n",
            "\n"
          ],
          "name": "stdout"
        }
      ]
    },
    {
      "cell_type": "code",
      "metadata": {
        "id": "StKaKcP98vwI",
        "colab_type": "code",
        "outputId": "b7a9ec62-b05c-401e-d212-b7334bd31c09",
        "colab": {
          "base_uri": "https://localhost:8080/",
          "height": 121
        }
      },
      "source": [
        "!ls -alh"
      ],
      "execution_count": 0,
      "outputs": [
        {
          "output_type": "stream",
          "text": [
            "total 264K\n",
            "drwxr-xr-x 1 root root 4.0K Aug 13 17:07  .\n",
            "drwxr-xr-x 1 root root 4.0K Aug 13 16:44  ..\n",
            "drwxr-xr-x 1 root root 4.0K Aug  7 16:05  .config\n",
            "-rw-r--r-- 1 root root 248K Aug 13 17:07 'rpg_db.sqlite3?raw=true'\n",
            "drwxr-xr-x 1 root root 4.0K Aug  2 16:06  sample_data\n"
          ],
          "name": "stdout"
        }
      ]
    },
    {
      "cell_type": "code",
      "metadata": {
        "id": "4MnvCmkP8z_L",
        "colab_type": "code",
        "colab": {}
      },
      "source": [
        "!mv 'rpg_db.sqlite3?raw=true' rpg_db.sqlite3"
      ],
      "execution_count": 0,
      "outputs": []
    },
    {
      "cell_type": "code",
      "metadata": {
        "id": "gHumLyvS844Q",
        "colab_type": "code",
        "colab": {}
      },
      "source": [
        "import sqlite3\n",
        "sl_conn = sqlite3.connect('rpg_db.sqlite3')\n",
        "sl_curs = sl_conn.cursor()"
      ],
      "execution_count": 0,
      "outputs": []
    },
    {
      "cell_type": "code",
      "metadata": {
        "id": "dODyplM09SRf",
        "colab_type": "code",
        "outputId": "c7a4c874-e623-47a2-f5ae-03e070542df5",
        "colab": {
          "base_uri": "https://localhost:8080/",
          "height": 34
        }
      },
      "source": [
        "sl_curs.execute('SELECT COUNT(*) FROM charactercreator_character;').fetchall()"
      ],
      "execution_count": 0,
      "outputs": [
        {
          "output_type": "execute_result",
          "data": {
            "text/plain": [
              "[(302,)]"
            ]
          },
          "metadata": {
            "tags": []
          },
          "execution_count": 19
        }
      ]
    },
    {
      "cell_type": "code",
      "metadata": {
        "id": "YJ7ERVUc92jU",
        "colab_type": "code",
        "colab": {}
      },
      "source": [
        "# Our goal - an ETL/data pipeline from SQLite to Python\n",
        "# Our target table (for live demo) - characters\n",
        "# Extract step:\n",
        "characters = sl_curs.execute('SELECT * FROM charactercreator_character;').fetchall()"
      ],
      "execution_count": 0,
      "outputs": []
    },
    {
      "cell_type": "code",
      "metadata": {
        "id": "V6O0VO0y-Tu_",
        "colab_type": "code",
        "outputId": "64735551-353e-4202-d98d-bbaab8b0a60c",
        "colab": {
          "base_uri": "https://localhost:8080/",
          "height": 34
        }
      },
      "source": [
        "characters[0]"
      ],
      "execution_count": 0,
      "outputs": [
        {
          "output_type": "execute_result",
          "data": {
            "text/plain": [
              "(1, 'Aliquid iste optio reiciendi', 0, 0, 10, 1, 1, 1, 1)"
            ]
          },
          "metadata": {
            "tags": []
          },
          "execution_count": 22
        }
      ]
    },
    {
      "cell_type": "code",
      "metadata": {
        "id": "9f7VJ7n8-wIq",
        "colab_type": "code",
        "outputId": "276c836b-c65e-46e8-c9c5-d052b54c91e4",
        "colab": {
          "base_uri": "https://localhost:8080/",
          "height": 34
        }
      },
      "source": [
        "characters[-1]"
      ],
      "execution_count": 0,
      "outputs": [
        {
          "output_type": "execute_result",
          "data": {
            "text/plain": [
              "(302, 'Aliquam n', 0, 0, 10, 1, 1, 1, 1)"
            ]
          },
          "metadata": {
            "tags": []
          },
          "execution_count": 23
        }
      ]
    },
    {
      "cell_type": "code",
      "metadata": {
        "id": "7govj1dD-4UY",
        "colab_type": "code",
        "outputId": "7a08e131-a100-468a-f485-96082259b8b0",
        "colab": {
          "base_uri": "https://localhost:8080/",
          "height": 34
        }
      },
      "source": [
        "len(characters)"
      ],
      "execution_count": 0,
      "outputs": [
        {
          "output_type": "execute_result",
          "data": {
            "text/plain": [
              "302"
            ]
          },
          "metadata": {
            "tags": []
          },
          "execution_count": 24
        }
      ]
    },
    {
      "cell_type": "code",
      "metadata": {
        "id": "eLvd-9TvAUIP",
        "colab_type": "code",
        "outputId": "2d5988f7-17cf-4c16-fdf9-8c05735fc468",
        "colab": {
          "base_uri": "https://localhost:8080/",
          "height": 173
        }
      },
      "source": [
        "sl_curs.execute('PRAGMA table_info(charactercreator_character);').fetchall()"
      ],
      "execution_count": 0,
      "outputs": [
        {
          "output_type": "execute_result",
          "data": {
            "text/plain": [
              "[(0, 'character_id', 'integer', 1, None, 1),\n",
              " (1, 'name', 'varchar(30)', 1, None, 0),\n",
              " (2, 'level', 'integer', 1, None, 0),\n",
              " (3, 'exp', 'integer', 1, None, 0),\n",
              " (4, 'hp', 'integer', 1, None, 0),\n",
              " (5, 'strength', 'integer', 1, None, 0),\n",
              " (6, 'intelligence', 'integer', 1, None, 0),\n",
              " (7, 'dexterity', 'integer', 1, None, 0),\n",
              " (8, 'wisdom', 'integer', 1, None, 0)]"
            ]
          },
          "metadata": {
            "tags": []
          },
          "execution_count": 25
        }
      ]
    },
    {
      "cell_type": "code",
      "metadata": {
        "id": "E2AeJWtV-7wE",
        "colab_type": "code",
        "colab": {}
      },
      "source": [
        "# Extract done! Next step - transform\n",
        "# We need the PostgreSQL db to have a table with\n",
        "# an appropriate schema\n",
        "create_character_table = \"\"\"\n",
        "  CREATE TABLE charactercreator_character (\n",
        "    character_id SERIAL PRIMARY KEY,\n",
        "    name VARCHAR(30),\n",
        "    level INT,\n",
        "    exp INT,\n",
        "    hp INT,\n",
        "    strength INT,\n",
        "    intelligence INT,\n",
        "    dexterity INT,\n",
        "    wisdom INT\n",
        "  );\n",
        "\"\"\""
      ],
      "execution_count": 0,
      "outputs": []
    },
    {
      "cell_type": "code",
      "metadata": {
        "id": "aTz-KbEDBFaA",
        "colab_type": "code",
        "colab": {}
      },
      "source": [
        "pg_curs.execute(create_character_table)"
      ],
      "execution_count": 0,
      "outputs": []
    },
    {
      "cell_type": "code",
      "metadata": {
        "id": "I9YEADihBRGf",
        "colab_type": "code",
        "outputId": "95d71772-3961-4932-8853-189d7d954430",
        "colab": {
          "base_uri": "https://localhost:8080/",
          "height": 193
        }
      },
      "source": [
        "# We can query tables if we want to check\n",
        "# This is a clever optional thing, showing postgresql internals\n",
        "show_tables = \"\"\"\n",
        "SELECT\n",
        "   *\n",
        "FROM\n",
        "   pg_catalog.pg_tables\n",
        "WHERE\n",
        "   schemaname != 'pg_catalog'\n",
        "AND schemaname != 'information_schema';\n",
        "\"\"\"\n",
        "pg_curs.execute(show_tables)\n",
        "pg_curs.fetchall()"
      ],
      "execution_count": 0,
      "outputs": [
        {
          "output_type": "execute_result",
          "data": {
            "text/plain": [
              "[('public', 'test_table', 'qehzlkzw', None, True, False, False, False),\n",
              " ('public',\n",
              "  'charactercreator_character',\n",
              "  'qehzlkzw',\n",
              "  None,\n",
              "  True,\n",
              "  False,\n",
              "  False,\n",
              "  False)]"
            ]
          },
          "metadata": {
            "tags": []
          },
          "execution_count": 30
        }
      ]
    },
    {
      "cell_type": "code",
      "metadata": {
        "id": "OtBPUgumClGo",
        "colab_type": "code",
        "outputId": "c8b85858-8a52-46e1-c66a-c3375b58f05b",
        "colab": {
          "base_uri": "https://localhost:8080/",
          "height": 34
        }
      },
      "source": [
        "characters[0]"
      ],
      "execution_count": 0,
      "outputs": [
        {
          "output_type": "execute_result",
          "data": {
            "text/plain": [
              "(1, 'Aliquid iste optio reiciendi', 0, 0, 10, 1, 1, 1, 1)"
            ]
          },
          "metadata": {
            "tags": []
          },
          "execution_count": 31
        }
      ]
    },
    {
      "cell_type": "code",
      "metadata": {
        "id": "Q7UA--7kCryQ",
        "colab_type": "code",
        "outputId": "7f5077f0-5113-42f6-9b3b-c2b2b93f7b88",
        "colab": {
          "base_uri": "https://localhost:8080/",
          "height": 34
        }
      },
      "source": [
        "str(characters[0][1:])"
      ],
      "execution_count": 0,
      "outputs": [
        {
          "output_type": "execute_result",
          "data": {
            "text/plain": [
              "\"('Aliquid iste optio reiciendi', 0, 0, 10, 1, 1, 1, 1)\""
            ]
          },
          "metadata": {
            "tags": []
          },
          "execution_count": 33
        }
      ]
    },
    {
      "cell_type": "code",
      "metadata": {
        "id": "N2krfuEPBgA6",
        "colab_type": "code",
        "outputId": "0bb77da7-cb27-4091-e3cf-95dc24775062",
        "colab": {
          "base_uri": "https://localhost:8080/",
          "height": 86
        }
      },
      "source": [
        "# Transform (making the target ready to get data) done\n",
        "# Now we need to actually load values, insert characters\n",
        "\n",
        "example_insert = \"\"\"\n",
        "INSERT INTO charactercreator_character\n",
        "(name, level, exp, hp, strength, intelligence, dexterity, wisdom)\n",
        "VALUES \"\"\" + str(characters[0][1:])\n",
        "\n",
        "print(example_insert)"
      ],
      "execution_count": 0,
      "outputs": [
        {
          "output_type": "stream",
          "text": [
            "\n",
            "INSERT INTO charactercreator_character\n",
            "(name, level, exp, hp, strength, intelligence, dexterity, wisdom)\n",
            "VALUES ('Aliquid iste optio reiciendi', 0, 0, 10, 1, 1, 1, 1)\n"
          ],
          "name": "stdout"
        }
      ]
    },
    {
      "cell_type": "code",
      "metadata": {
        "id": "i2EuuEu2C5yt",
        "colab_type": "code",
        "colab": {}
      },
      "source": [
        "# How do we do this for all characters? Loops!\n",
        "for character in characters:\n",
        "  insert_character = \"\"\"\n",
        "    INSERT INTO charactercreator_character\n",
        "    (name, level, exp, hp, strength, intelligence, dexterity, wisdom)\n",
        "    VALUES \"\"\" + str(character[1:]) + ';'\n",
        "  # print(insert_character)\n",
        "  pg_curs.execute(insert_character)"
      ],
      "execution_count": 0,
      "outputs": []
    },
    {
      "cell_type": "code",
      "metadata": {
        "id": "JuaEJN3sDpdD",
        "colab_type": "code",
        "outputId": "f8922526-45d8-432e-b71b-5d1e3179c12f",
        "colab": {
          "base_uri": "https://localhost:8080/",
          "height": 1000
        }
      },
      "source": [
        "pg_curs.execute('SELECT * FROM charactercreator_character;')\n",
        "pg_curs.fetchall()"
      ],
      "execution_count": 0,
      "outputs": [
        {
          "output_type": "execute_result",
          "data": {
            "text/plain": [
              "[(1, 'Aliquid iste optio reiciendi', 0, 0, 10, 1, 1, 1, 1),\n",
              " (2, 'Optio dolorem ex a', 0, 0, 10, 1, 1, 1, 1),\n",
              " (3, 'Minus c', 0, 0, 10, 1, 1, 1, 1),\n",
              " (4, 'Sit ut repr', 0, 0, 10, 1, 1, 1, 1),\n",
              " (5, 'At id recusandae expl', 0, 0, 10, 1, 1, 1, 1),\n",
              " (6, 'Non nobis et of', 0, 0, 10, 1, 1, 1, 1),\n",
              " (7, 'Perferendis', 0, 0, 10, 1, 1, 1, 1),\n",
              " (8, 'Accusantium amet quidem eve', 0, 0, 10, 1, 1, 1, 1),\n",
              " (9, 'Sed nostrum inventore error m', 0, 0, 10, 1, 1, 1, 1),\n",
              " (10, 'Harum repellendus omnis od', 0, 0, 10, 1, 1, 1, 1),\n",
              " (11, 'Itaque ut commodi,', 0, 0, 10, 1, 1, 1, 1),\n",
              " (12, 'Molestiae quis', 0, 0, 10, 1, 1, 1, 1),\n",
              " (13, 'Ali', 0, 0, 10, 1, 1, 1, 1),\n",
              " (14, 'Tempora quod optio possimus il', 0, 0, 10, 1, 1, 1, 1),\n",
              " (15, 'Sed itaque beatae pari', 0, 0, 10, 1, 1, 1, 1),\n",
              " (16, 'Quam dolor', 0, 0, 10, 1, 1, 1, 1),\n",
              " (17, 'Molestias expedita', 0, 0, 10, 1, 1, 1, 1),\n",
              " (18, 'Lauda', 0, 0, 10, 1, 1, 1, 1),\n",
              " (19, 'Incidunt sint perferen', 0, 0, 10, 1, 1, 1, 1),\n",
              " (20, 'Laboriosa', 0, 0, 10, 1, 1, 1, 1),\n",
              " (21, 'Dolore esse nesciunt fugit com', 0, 0, 10, 1, 1, 1, 1),\n",
              " (22, 'Dolorum nam reic', 0, 0, 10, 1, 1, 1, 1),\n",
              " (23, 'Repellat ad numquam volu', 0, 0, 10, 1, 1, 1, 1),\n",
              " (24, 'Facere enim velit eligend', 0, 0, 10, 1, 1, 1, 1),\n",
              " (25, 'Sed ratione quis rep', 0, 0, 10, 1, 1, 1, 1),\n",
              " (26, 'Doloribus neque', 0, 0, 10, 1, 1, 1, 1),\n",
              " (27, 'Ab voluptas se', 0, 0, 10, 1, 1, 1, 1),\n",
              " (28, 'Molestias m', 0, 0, 10, 1, 1, 1, 1),\n",
              " (29, 'In pariatur corpori', 0, 0, 10, 1, 1, 1, 1),\n",
              " (30, 'Possimus ad dignissimos vel, a', 0, 0, 10, 1, 1, 1, 1),\n",
              " (31, 'At minus accusa', 0, 0, 10, 1, 1, 1, 1),\n",
              " (32, 'Ad necess', 0, 0, 10, 1, 1, 1, 1),\n",
              " (33, 'Expedita c', 0, 0, 10, 1, 1, 1, 1),\n",
              " (34, 'Voluptates sunt voluptas volu', 0, 0, 10, 1, 1, 1, 1),\n",
              " (35, 'Autem mollitia fuga lauda', 0, 0, 10, 1, 1, 1, 1),\n",
              " (36, 'Sint quibusdam ob', 0, 0, 10, 1, 1, 1, 1),\n",
              " (37, 'Rerum et o', 0, 0, 10, 1, 1, 1, 1),\n",
              " (38, 'Doloribus dolore r', 0, 0, 10, 1, 1, 1, 1),\n",
              " (39, 'Eaque su', 0, 0, 10, 1, 1, 1, 1),\n",
              " (40, 'Vel molestias numqua', 0, 0, 10, 1, 1, 1, 1),\n",
              " (41, 'Iste assumenda repellat q', 0, 0, 10, 1, 1, 1, 1),\n",
              " (42, 'Animi labo', 0, 0, 10, 1, 1, 1, 1),\n",
              " (43, 'Eum culpa eaque ea omn', 0, 0, 10, 1, 1, 1, 1),\n",
              " (44, 'Harum provident vel quam', 0, 0, 10, 1, 1, 1, 1),\n",
              " (45, 'Aspe', 0, 0, 10, 1, 1, 1, 1),\n",
              " (46, 'Nisi nequ', 0, 0, 10, 1, 1, 1, 1),\n",
              " (47, 'Quod tempora', 0, 0, 10, 1, 1, 1, 1),\n",
              " (48, 'Porro aliq', 0, 0, 10, 1, 1, 1, 1),\n",
              " (49, 'Quas', 0, 0, 10, 1, 1, 1, 1),\n",
              " (50, 'Magnam eligendi quia animi', 0, 0, 10, 1, 1, 1, 1),\n",
              " (51, 'Officiis se', 0, 0, 10, 1, 1, 1, 1),\n",
              " (52, 'Id assumend', 0, 0, 10, 1, 1, 1, 1),\n",
              " (53, 'Voluptatibus fu', 0, 0, 10, 1, 1, 1, 1),\n",
              " (54, 'Odit rat', 0, 0, 10, 1, 1, 1, 1),\n",
              " (55, 'Debit', 0, 0, 10, 1, 1, 1, 1),\n",
              " (56, 'Cum aut quas repudia', 0, 0, 10, 1, 1, 1, 1),\n",
              " (57, 'Deleniti qui quae quidem', 0, 0, 10, 1, 1, 1, 1),\n",
              " (58, 'Adipisci voluptas', 0, 0, 10, 1, 1, 1, 1),\n",
              " (59, 'Debitis sit ratione eos nam', 0, 0, 10, 1, 1, 1, 1),\n",
              " (60, 'Esse illo molestias archi', 0, 0, 10, 1, 1, 1, 1),\n",
              " (61, 'Sunt at itaque voluptatum d', 0, 0, 10, 1, 1, 1, 1),\n",
              " (62, 'Est totam', 0, 0, 10, 1, 1, 1, 1),\n",
              " (63, 'Reprehenderit commodi eius', 0, 0, 10, 1, 1, 1, 1),\n",
              " (64, 'Debit', 0, 0, 10, 1, 1, 1, 1),\n",
              " (65, 'Soluta dol', 0, 0, 10, 1, 1, 1, 1),\n",
              " (66, 'Vel nesc', 0, 0, 10, 1, 1, 1, 1),\n",
              " (67, 'Ratione quia ali', 0, 0, 10, 1, 1, 1, 1),\n",
              " (68, 'Rerum recusandae minima', 0, 0, 10, 1, 1, 1, 1),\n",
              " (69, 'Totam natus eius fugiat volu', 0, 0, 10, 1, 1, 1, 1),\n",
              " (70, 'Perferendis commodi null', 0, 0, 10, 1, 1, 1, 1),\n",
              " (71, 'Laudantiu', 0, 0, 10, 1, 1, 1, 1),\n",
              " (72, 'Voluptat', 0, 0, 10, 1, 1, 1, 1),\n",
              " (73, 'Incidunt nesciun', 0, 0, 10, 1, 1, 1, 1),\n",
              " (74, 'Illum amet vero', 0, 0, 10, 1, 1, 1, 1),\n",
              " (75, 'Suscipit exercitationem re', 0, 0, 10, 1, 1, 1, 1),\n",
              " (76, 'Quas enim error maxime nisi m', 0, 0, 10, 1, 1, 1, 1),\n",
              " (77, 'Labore qu', 0, 0, 10, 1, 1, 1, 1),\n",
              " (78, 'Repudiandae deleniti unde', 0, 0, 10, 1, 1, 1, 1),\n",
              " (79, 'Ut do', 0, 0, 10, 1, 1, 1, 1),\n",
              " (80, 'Quaerat esse labore q', 0, 0, 10, 1, 1, 1, 1),\n",
              " (81, 'Quidem aliq', 0, 0, 10, 1, 1, 1, 1),\n",
              " (82, 'Aperiam vitae eos dolor sed', 0, 0, 10, 1, 1, 1, 1),\n",
              " (83, 'Minus nobis porro', 0, 0, 10, 1, 1, 1, 1),\n",
              " (84, 'In similique', 0, 0, 10, 1, 1, 1, 1),\n",
              " (85, 'Culpa repellat unde', 0, 0, 10, 1, 1, 1, 1),\n",
              " (86, 'Architecto i', 0, 0, 10, 1, 1, 1, 1),\n",
              " (87, 'A sed pariatur qua', 0, 0, 10, 1, 1, 1, 1),\n",
              " (88, 'Tempore assumenda aperiam', 0, 0, 10, 1, 1, 1, 1),\n",
              " (89, 'Sed ullam tempora iusto co', 0, 0, 10, 1, 1, 1, 1),\n",
              " (90, 'Ipsa', 0, 0, 10, 1, 1, 1, 1),\n",
              " (91, 'Fugiat incidun', 0, 0, 10, 1, 1, 1, 1),\n",
              " (92, 'Molestiae of', 0, 0, 10, 1, 1, 1, 1),\n",
              " (93, 'Quae quisquam cons', 0, 0, 10, 1, 1, 1, 1),\n",
              " (94, 'Repellendus ea non facil', 0, 0, 10, 1, 1, 1, 1),\n",
              " (95, 'Quod non quibu', 0, 0, 10, 1, 1, 1, 1),\n",
              " (96, 'Numquam velit distinctio', 0, 0, 10, 1, 1, 1, 1),\n",
              " (97, 'Necessitatibus nihil ex debi', 0, 0, 10, 1, 1, 1, 1),\n",
              " (98, 'Velit tempore nemo, na', 0, 0, 10, 1, 1, 1, 1),\n",
              " (99, 'Nesciunt v', 0, 0, 10, 1, 1, 1, 1),\n",
              " (100, 'Dicta enim debitis accusantiu', 0, 0, 10, 1, 1, 1, 1),\n",
              " (101, 'Vitae a', 0, 0, 10, 1, 1, 1, 1),\n",
              " (102, 'Praesentium voluptas u', 0, 0, 10, 1, 1, 1, 1),\n",
              " (103, 'Unde ullam mollitia? Nu', 0, 0, 10, 1, 1, 1, 1),\n",
              " (104, 'Neque molestias qu', 0, 0, 10, 1, 1, 1, 1),\n",
              " (105, 'Officiis es', 0, 0, 10, 1, 1, 1, 1),\n",
              " (106, 'Beatae mi', 0, 0, 10, 1, 1, 1, 1),\n",
              " (107, 'Mollitia nam corporis temp', 0, 0, 10, 1, 1, 1, 1),\n",
              " (108, 'Repudiandae repellat i', 0, 0, 10, 1, 1, 1, 1),\n",
              " (109, 'Laboriosam', 0, 0, 10, 1, 1, 1, 1),\n",
              " (110, 'Nam minus amet', 0, 0, 10, 1, 1, 1, 1),\n",
              " (111, 'Harum quae volup', 0, 0, 10, 1, 1, 1, 1),\n",
              " (112, 'Impedit facere ulla', 0, 0, 10, 1, 1, 1, 1),\n",
              " (113, 'Enim', 0, 0, 10, 1, 1, 1, 1),\n",
              " (114, 'Dolore magni', 0, 0, 10, 1, 1, 1, 1),\n",
              " (115, 'Eaque at corpori', 0, 0, 10, 1, 1, 1, 1),\n",
              " (116, 'Fug', 0, 0, 10, 1, 1, 1, 1),\n",
              " (117, 'Dolorum laudanti', 0, 0, 10, 1, 1, 1, 1),\n",
              " (118, 'Perferendis nat', 0, 0, 10, 1, 1, 1, 1),\n",
              " (119, 'Cupidi', 0, 0, 10, 1, 1, 1, 1),\n",
              " (120, 'Commodi eius dicta digniss', 0, 0, 10, 1, 1, 1, 1),\n",
              " (121, 'Debitis eu', 0, 0, 10, 1, 1, 1, 1),\n",
              " (122, 'Nihil repella', 0, 0, 10, 1, 1, 1, 1),\n",
              " (123, 'Rem quasi minima hic sed anim', 0, 0, 10, 1, 1, 1, 1),\n",
              " (124, 'Sed ali', 0, 0, 10, 1, 1, 1, 1),\n",
              " (125, 'Earum vol', 0, 0, 10, 1, 1, 1, 1),\n",
              " (126, 'Inventore tempore com', 0, 0, 10, 1, 1, 1, 1),\n",
              " (127, 'Repell', 0, 0, 10, 1, 1, 1, 1),\n",
              " (128, 'Consequatur quis recusandae qu', 0, 0, 10, 1, 1, 1, 1),\n",
              " (129, 'Dolores ea velit mi', 0, 0, 10, 1, 1, 1, 1),\n",
              " (130, 'Atque blanditiis a aperiam', 0, 0, 10, 1, 1, 1, 1),\n",
              " (131, 'Reprehenderit sequi iu', 0, 0, 10, 1, 1, 1, 1),\n",
              " (132, 'Natus architecto eos, hic blan', 0, 0, 10, 1, 1, 1, 1),\n",
              " (133, 'Ipsa illo quas', 0, 0, 10, 1, 1, 1, 1),\n",
              " (134, 'Voluptas ali', 0, 0, 10, 1, 1, 1, 1),\n",
              " (135, 'Voluptates obcaecati quod e', 0, 0, 10, 1, 1, 1, 1),\n",
              " (136, 'Dolor adipisci a voluptate', 0, 0, 10, 1, 1, 1, 1),\n",
              " (137, 'Repellendus natus quae, n', 0, 0, 10, 1, 1, 1, 1),\n",
              " (138, 'Laudantium earum nam in dol', 0, 0, 10, 1, 1, 1, 1),\n",
              " (139, 'Molestias face', 0, 0, 10, 1, 1, 1, 1),\n",
              " (140, 'Maiores suscipit exc', 0, 0, 10, 1, 1, 1, 1),\n",
              " (141, 'Illum dolore perferen', 0, 0, 10, 1, 1, 1, 1),\n",
              " (142, 'Explicabo recusandae ma', 0, 0, 10, 1, 1, 1, 1),\n",
              " (143, 'Odio obcaecati hic nostrum n', 0, 0, 10, 1, 1, 1, 1),\n",
              " (144, 'Voluptate ali', 0, 0, 10, 1, 1, 1, 1),\n",
              " (145, 'Repudiandae vitae sapiente mol', 0, 0, 10, 1, 1, 1, 1),\n",
              " (146, 'Ipsam cumque', 0, 0, 10, 1, 1, 1, 1),\n",
              " (147, 'Fugiat quos alias eos dese', 0, 0, 10, 1, 1, 1, 1),\n",
              " (148, 'Eaque impe', 0, 0, 10, 1, 1, 1, 1),\n",
              " (149, 'Elige', 0, 0, 10, 1, 1, 1, 1),\n",
              " (150, 'Adip', 0, 0, 10, 1, 1, 1, 1),\n",
              " (151, 'Fuga nemo vel mo', 0, 0, 10, 1, 1, 1, 1),\n",
              " (152, 'Libero cumque impedit eveniet', 0, 0, 10, 1, 1, 1, 1),\n",
              " (153, 'Odio soluta', 0, 0, 10, 1, 1, 1, 1),\n",
              " (154, 'Vero nostrum duc', 0, 0, 10, 1, 1, 1, 1),\n",
              " (155, 'Repellend', 0, 0, 10, 1, 1, 1, 1),\n",
              " (156, 'Quod', 0, 0, 10, 1, 1, 1, 1),\n",
              " (157, 'Suscipit reiciend', 0, 0, 10, 1, 1, 1, 1),\n",
              " (158, 'Voluptat', 0, 0, 10, 1, 1, 1, 1),\n",
              " (159, 'Porro dolor fuga quam', 0, 0, 10, 1, 1, 1, 1),\n",
              " (160, 'Amet quo fugit aliquam sequi', 0, 0, 10, 1, 1, 1, 1),\n",
              " (161, 'Magni adipisci veritatis sit q', 0, 0, 10, 1, 1, 1, 1),\n",
              " (162, 'Debitis enim cumque cum qu', 0, 0, 10, 1, 1, 1, 1),\n",
              " (163, 'Dolorem eligend', 0, 0, 10, 1, 1, 1, 1),\n",
              " (164, 'Autem lib', 0, 0, 10, 1, 1, 1, 1),\n",
              " (165, 'Saepe assumenda perferendis f', 0, 0, 10, 1, 1, 1, 1),\n",
              " (166, 'Deserunt', 0, 0, 10, 1, 1, 1, 1),\n",
              " (167, 'Provident soluta simil', 0, 0, 10, 1, 1, 1, 1),\n",
              " (168, 'In accu', 0, 0, 10, 1, 1, 1, 1),\n",
              " (169, 'Inve', 0, 0, 10, 1, 1, 1, 1),\n",
              " (170, 'Placeat sapiente', 0, 0, 10, 1, 1, 1, 1),\n",
              " (171, 'Ducimus architecto ullam', 0, 0, 10, 1, 1, 1, 1),\n",
              " (172, 'Voluptate tempora rerum', 0, 0, 10, 1, 1, 1, 1),\n",
              " (173, 'Totam incidunt earum perspicia', 0, 0, 10, 1, 1, 1, 1),\n",
              " (174, 'Optio quas e', 0, 0, 10, 1, 1, 1, 1),\n",
              " (175, 'Ab illum invento', 0, 0, 10, 1, 1, 1, 1),\n",
              " (176, 'Repellat quis natus totam, s', 0, 0, 10, 1, 1, 1, 1),\n",
              " (177, 'Est voluptate accusantium tem', 0, 0, 10, 1, 1, 1, 1),\n",
              " (178, 'Beatae q', 0, 0, 10, 1, 1, 1, 1),\n",
              " (179, 'Velit', 0, 0, 10, 1, 1, 1, 1),\n",
              " (180, 'Minus nequ', 0, 0, 10, 1, 1, 1, 1),\n",
              " (181, 'Autem eos voluptates off', 0, 0, 10, 1, 1, 1, 1),\n",
              " (182, 'Vel fug', 0, 0, 10, 1, 1, 1, 1),\n",
              " (183, 'Architecto repudian', 0, 0, 10, 1, 1, 1, 1),\n",
              " (184, 'Opti', 0, 0, 10, 1, 1, 1, 1),\n",
              " (185, 'Iust', 0, 0, 10, 1, 1, 1, 1),\n",
              " (186, 'Sapiente', 0, 0, 10, 1, 1, 1, 1),\n",
              " (187, 'Officiis repellat corrupti su', 0, 0, 10, 1, 1, 1, 1),\n",
              " (188, 'Dicta et natus e', 0, 0, 10, 1, 1, 1, 1),\n",
              " (189, 'At quos', 0, 0, 10, 1, 1, 1, 1),\n",
              " (190, 'Laborum ven', 0, 0, 10, 1, 1, 1, 1),\n",
              " (191, 'Exceptur', 0, 0, 10, 1, 1, 1, 1),\n",
              " (192, 'Reiciendis assumenda dolo', 0, 0, 10, 1, 1, 1, 1),\n",
              " (193, 'Poss', 0, 0, 10, 1, 1, 1, 1),\n",
              " (194, 'Acc', 0, 0, 10, 1, 1, 1, 1),\n",
              " (195, 'Placeat esse archit', 0, 0, 10, 1, 1, 1, 1),\n",
              " (196, 'Enim repellendus nihil est te', 0, 0, 10, 1, 1, 1, 1),\n",
              " (197, 'Ipsam incidunt t', 0, 0, 10, 1, 1, 1, 1),\n",
              " (198, 'Iure', 0, 0, 10, 1, 1, 1, 1),\n",
              " (199, 'Illo en', 0, 0, 10, 1, 1, 1, 1),\n",
              " (200, 'A rem ex', 0, 0, 10, 1, 1, 1, 1),\n",
              " (201, 'Officiis su', 0, 0, 10, 1, 1, 1, 1),\n",
              " (202, 'Numquam molestias', 0, 0, 10, 1, 1, 1, 1),\n",
              " (203, 'Voluptates unde', 0, 0, 10, 1, 1, 1, 1),\n",
              " (204, 'Quae praesentium vel', 0, 0, 10, 1, 1, 1, 1),\n",
              " (205, 'Quas', 0, 0, 10, 1, 1, 1, 1),\n",
              " (206, 'Dolores aliquid inv', 0, 0, 10, 1, 1, 1, 1),\n",
              " (207, 'Mollitia tempore laborum eaqu', 0, 0, 10, 1, 1, 1, 1),\n",
              " (208, 'Nobis voluptates fugiat quia', 0, 0, 10, 1, 1, 1, 1),\n",
              " (209, 'Similique dolorem dolore maio', 0, 0, 10, 1, 1, 1, 1),\n",
              " (210, 'Sapiente', 0, 0, 10, 1, 1, 1, 1),\n",
              " (211, 'Officia nisi dolore', 0, 0, 10, 1, 1, 1, 1),\n",
              " (212, 'Distinctio', 0, 0, 10, 1, 1, 1, 1),\n",
              " (213, 'Eos quia dignissimos saepe vel', 0, 0, 10, 1, 1, 1, 1),\n",
              " (214, 'Ullam neque sint eligendi', 0, 0, 10, 1, 1, 1, 1),\n",
              " (215, 'Excepturi deleniti ab a', 0, 0, 10, 1, 1, 1, 1),\n",
              " (216, 'Accusa', 0, 0, 10, 1, 1, 1, 1),\n",
              " (217, 'Reiciendis laboriosam di', 0, 0, 10, 1, 1, 1, 1),\n",
              " (218, 'Delectus ex', 0, 0, 10, 1, 1, 1, 1),\n",
              " (219, 'Pari', 0, 0, 10, 1, 1, 1, 1),\n",
              " (220, 'Veritatis velit facilis iste', 0, 0, 10, 1, 1, 1, 1),\n",
              " (221, 'Dol', 0, 0, 10, 1, 1, 1, 1),\n",
              " (222, 'Qui iste pr', 0, 0, 10, 1, 1, 1, 1),\n",
              " (223, 'Deleni', 0, 0, 10, 1, 1, 1, 1),\n",
              " (224, 'Reprehenderit volu', 0, 0, 10, 1, 1, 1, 1),\n",
              " (225, 'Accusantium vitae n', 0, 0, 10, 1, 1, 1, 1),\n",
              " (226, 'Natus consequatur incidun', 0, 0, 10, 1, 1, 1, 1),\n",
              " (227, 'Dignissimos a', 0, 0, 10, 1, 1, 1, 1),\n",
              " (228, 'Vitae modi', 0, 0, 10, 1, 1, 1, 1),\n",
              " (229, 'Accusantium qu', 0, 0, 10, 1, 1, 1, 1),\n",
              " (230, 'Reiciendis dignissimos ratio', 0, 0, 10, 1, 1, 1, 1),\n",
              " (231, 'Expedita provident natus volup', 0, 0, 10, 1, 1, 1, 1),\n",
              " (232, 'Rerum repellat voluptas c', 0, 0, 10, 1, 1, 1, 1),\n",
              " (233, 'Maiores quos incidunt dolor', 0, 0, 10, 1, 1, 1, 1),\n",
              " (234, 'Aper', 0, 0, 10, 1, 1, 1, 1),\n",
              " (235, 'Nulla', 0, 0, 10, 1, 1, 1, 1),\n",
              " (236, 'Laudantium tempora itaque', 0, 0, 10, 1, 1, 1, 1),\n",
              " (237, 'Reprehenderit', 0, 0, 10, 1, 1, 1, 1),\n",
              " (238, 'Aliqu', 0, 0, 10, 1, 1, 1, 1),\n",
              " (239, 'Odio harum nam mole', 0, 0, 10, 1, 1, 1, 1),\n",
              " (240, 'Arc', 0, 0, 10, 1, 1, 1, 1),\n",
              " (241, 'Reprehenderit li', 0, 0, 10, 1, 1, 1, 1),\n",
              " (242, 'Repr', 0, 0, 10, 1, 1, 1, 1),\n",
              " (243, 'Optio m', 0, 0, 10, 1, 1, 1, 1),\n",
              " (244, 'Esse odit amet rep', 0, 0, 10, 1, 1, 1, 1),\n",
              " (245, 'Provident nostrum minima', 0, 0, 10, 1, 1, 1, 1),\n",
              " (246, 'Ex nihil quae facilis a omni', 0, 0, 10, 1, 1, 1, 1),\n",
              " (247, 'Dolorem quaerat sunt', 0, 0, 10, 1, 1, 1, 1),\n",
              " (248, 'Distinctio', 0, 0, 10, 1, 1, 1, 1),\n",
              " (249, 'Repudiandae ip', 0, 0, 10, 1, 1, 1, 1),\n",
              " (250, 'Iste debitis dolorum amet m', 0, 0, 10, 1, 1, 1, 1),\n",
              " (251, 'Non qui vo', 0, 0, 10, 1, 1, 1, 1),\n",
              " (252, 'Dolorem ma', 0, 0, 10, 1, 1, 1, 1),\n",
              " (253, 'Molestias labore tempore ita', 0, 0, 10, 1, 1, 1, 1),\n",
              " (254, 'Vol', 0, 0, 10, 1, 1, 1, 1),\n",
              " (255, 'Adipisci molest', 0, 0, 10, 1, 1, 1, 1),\n",
              " (256, 'Omni', 0, 0, 10, 1, 1, 1, 1),\n",
              " (257, 'Voluptatibus dolor', 0, 0, 10, 1, 1, 1, 1),\n",
              " (258, 'Quo', 0, 0, 10, 1, 1, 1, 1),\n",
              " (259, 'Atque aspernatur possi', 0, 0, 10, 1, 1, 1, 1),\n",
              " (260, 'Ullam c', 0, 0, 10, 1, 1, 1, 1),\n",
              " (261, 'Iusto quas voluptatibu', 0, 0, 10, 1, 1, 1, 1),\n",
              " (262, 'Optio qui sunt dolores, ab', 0, 0, 10, 1, 1, 1, 1),\n",
              " (263, 'Illum recusandae nulla re', 0, 0, 10, 1, 1, 1, 1),\n",
              " (264, 'Verita', 0, 0, 10, 1, 1, 1, 1),\n",
              " (265, 'Expedita quod blanditiis', 0, 0, 10, 1, 1, 1, 1),\n",
              " (266, 'Mag', 0, 0, 10, 1, 1, 1, 1),\n",
              " (267, 'Omnis quos aspernatur d', 0, 0, 10, 1, 1, 1, 1),\n",
              " (268, 'Sunt impedit co', 0, 0, 10, 1, 1, 1, 1),\n",
              " (269, 'Minima quam ea ad', 0, 0, 10, 1, 1, 1, 1),\n",
              " (270, 'Suscipit quidem e', 0, 0, 10, 1, 1, 1, 1),\n",
              " (271, 'Harum', 0, 0, 10, 1, 1, 1, 1),\n",
              " (272, 'Dolore laborum ips', 0, 0, 10, 1, 1, 1, 1),\n",
              " (273, 'Magni veniam earum corporis', 0, 0, 10, 1, 1, 1, 1),\n",
              " (274, 'Optio', 0, 0, 10, 1, 1, 1, 1),\n",
              " (275, 'Nam fugit vel.', 0, 0, 10, 1, 1, 1, 1),\n",
              " (276, 'Ut numquam quam eum, alias ius', 0, 0, 10, 1, 1, 1, 1),\n",
              " (277, 'Error amet tempore nulla', 0, 0, 10, 1, 1, 1, 1),\n",
              " (278, 'Deserunt a', 0, 0, 10, 1, 1, 1, 1),\n",
              " (279, 'Aperiam sit', 0, 0, 10, 1, 1, 1, 1),\n",
              " (280, 'Asperi', 0, 0, 10, 1, 1, 1, 1),\n",
              " (281, 'Similique aperiam earum expli', 0, 0, 10, 1, 1, 1, 1),\n",
              " (282, 'Iure h', 0, 0, 10, 1, 1, 1, 1),\n",
              " (283, 'At sint ducimus nostrum i', 0, 0, 10, 1, 1, 1, 1),\n",
              " (284, 'Reprehenderit temporib', 0, 0, 10, 1, 1, 1, 1),\n",
              " (285, 'Molestiae quaerat maxim', 0, 0, 10, 1, 1, 1, 1),\n",
              " (286, 'Maior', 0, 0, 10, 1, 1, 1, 1),\n",
              " (287, 'Unde natus ut ipsa cupi', 0, 0, 10, 1, 1, 1, 1),\n",
              " (288, 'Praesentium atque ear', 0, 0, 10, 1, 1, 1, 1),\n",
              " (289, 'Rem minima', 0, 0, 10, 1, 1, 1, 1),\n",
              " (290, 'Provident sed soluta, sed si', 0, 0, 10, 1, 1, 1, 1),\n",
              " (291, 'Natus quia veritatis', 0, 0, 10, 1, 1, 1, 1),\n",
              " (292, 'Vero a', 0, 0, 10, 1, 1, 1, 1),\n",
              " (293, 'Optio harum labori', 0, 0, 10, 1, 1, 1, 1),\n",
              " (294, 'Duci', 0, 0, 10, 1, 1, 1, 1),\n",
              " (295, 'Ipsa elige', 0, 0, 10, 1, 1, 1, 1),\n",
              " (296, 'Sunt blanditiis i', 0, 0, 10, 1, 1, 1, 1),\n",
              " (297, 'Doloremque', 0, 0, 10, 1, 1, 1, 1),\n",
              " (298, 'Autem ratione vitae quos, do', 0, 0, 10, 1, 1, 1, 1),\n",
              " (299, 'Voluptatibus aliquid', 0, 0, 10, 1, 1, 1, 1),\n",
              " (300, 'Quaerat sequi sit eius corpori', 0, 0, 10, 1, 1, 1, 1),\n",
              " (301, 'Libe', 0, 0, 10, 1, 1, 1, 1),\n",
              " (302, 'Aliquam n', 0, 0, 10, 1, 1, 1, 1)]"
            ]
          },
          "metadata": {
            "tags": []
          },
          "execution_count": 40
        }
      ]
    },
    {
      "cell_type": "code",
      "metadata": {
        "id": "hNJE_TT9Eq_A",
        "colab_type": "code",
        "colab": {}
      },
      "source": [
        "# We can see it from this cursor - but not elephantsql.com!\n",
        "# We have to commit\n",
        "pg_curs.close()\n",
        "pg_conn.commit()"
      ],
      "execution_count": 0,
      "outputs": []
    },
    {
      "cell_type": "code",
      "metadata": {
        "id": "8XUpFrRkE5up",
        "colab_type": "code",
        "colab": {}
      },
      "source": [
        "# OK, we can see it in elephantsql.com now\n",
        "# But let's also check programmatically\n",
        "pg_curs = pg_conn.cursor()  # Make a new cursor\n",
        "pg_curs.execute('SELECT * FROM charactercreator_character;')\n",
        "pg_characters = pg_curs.fetchall()"
      ],
      "execution_count": 0,
      "outputs": []
    },
    {
      "cell_type": "code",
      "metadata": {
        "id": "Wf2zEQh6GFcx",
        "colab_type": "code",
        "outputId": "b61e45e7-6512-4201-f9e0-d1b3dee9380c",
        "colab": {
          "base_uri": "https://localhost:8080/",
          "height": 34
        }
      },
      "source": [
        "characters[0]  # Original, from-SQLite characters"
      ],
      "execution_count": 0,
      "outputs": [
        {
          "output_type": "execute_result",
          "data": {
            "text/plain": [
              "(1, 'Aliquid iste optio reiciendi', 0, 0, 10, 1, 1, 1, 1)"
            ]
          },
          "metadata": {
            "tags": []
          },
          "execution_count": 43
        }
      ]
    },
    {
      "cell_type": "code",
      "metadata": {
        "id": "jpo5211OGJc-",
        "colab_type": "code",
        "outputId": "e740f01e-d1ca-4747-ef4d-a81e40e6c34a",
        "colab": {
          "base_uri": "https://localhost:8080/",
          "height": 34
        }
      },
      "source": [
        "pg_characters[0]  # ETL'd PostgreSQL-hosted characters"
      ],
      "execution_count": 0,
      "outputs": [
        {
          "output_type": "execute_result",
          "data": {
            "text/plain": [
              "(1, 'Aliquid iste optio reiciendi', 0, 0, 10, 1, 1, 1, 1)"
            ]
          },
          "metadata": {
            "tags": []
          },
          "execution_count": 44
        }
      ]
    },
    {
      "cell_type": "code",
      "metadata": {
        "id": "lGfqsWzAGMfu",
        "colab_type": "code",
        "colab": {}
      },
      "source": [
        "for character, pg_character in zip(characters, pg_characters):\n",
        "  assert character == pg_character"
      ],
      "execution_count": 0,
      "outputs": []
    },
    {
      "cell_type": "code",
      "metadata": {
        "id": "HMCUHqqRGZ1w",
        "colab_type": "code",
        "colab": {}
      },
      "source": [
        "# Nothing happened - which means they're all the same!\n",
        "# We have successfully performed and validated an ETL"
      ],
      "execution_count": 0,
      "outputs": []
    }
  ]
}