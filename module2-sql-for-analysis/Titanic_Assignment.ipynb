{
  "nbformat": 4,
  "nbformat_minor": 0,
  "metadata": {
    "colab": {
      "name": "Titanic Assignment.ipynb",
      "version": "0.3.2",
      "provenance": []
    },
    "kernelspec": {
      "name": "python3",
      "display_name": "Python 3"
    }
  },
  "cells": [
    {
      "cell_type": "markdown",
      "metadata": {
        "id": "XsXkeIcUHWSi",
        "colab_type": "text"
      },
      "source": [
        "##Titanic"
      ]
    },
    {
      "cell_type": "code",
      "metadata": {
        "id": "QraDuCJWUrKu",
        "colab_type": "code",
        "outputId": "899cc894-e99d-4868-b037-ccec8817d1eb",
        "colab": {
          "base_uri": "https://localhost:8080/",
          "height": 35
        }
      },
      "source": [
        "!pip install psycopg2-binary"
      ],
      "execution_count": 1,
      "outputs": [
        {
          "output_type": "stream",
          "text": [
            "Requirement already satisfied: psycopg2-binary in /usr/local/lib/python3.6/dist-packages (2.8.2)\n"
          ],
          "name": "stdout"
        }
      ]
    },
    {
      "cell_type": "code",
      "metadata": {
        "id": "Qm6ZdWMOVz_-",
        "colab_type": "code",
        "colab": {}
      },
      "source": [
        "import psycopg2"
      ],
      "execution_count": 0,
      "outputs": []
    },
    {
      "cell_type": "code",
      "metadata": {
        "id": "vpZByem4HV5X",
        "colab_type": "code",
        "colab": {
          "base_uri": "https://localhost:8080/",
          "height": 250
        },
        "outputId": "1a1ca324-8d9e-4b29-ce52-f0c3070d6c80"
      },
      "source": [
        "import pandas as pd\n",
        "url = 'https://raw.githubusercontent.com/LambdaSchool/DS-Unit-3-Sprint-2-SQL-and-Databases/master/module2-sql-for-analysis/titanic.csv'\n",
        "df = pd.read_csv(url)\n",
        "df.Age = df.Age.astype('int')\n",
        "df['Name'] = df['Name'].str.replace(r\"[\\\"\\',]\", '')\n",
        "df.head()"
      ],
      "execution_count": 3,
      "outputs": [
        {
          "output_type": "execute_result",
          "data": {
            "text/html": [
              "<div>\n",
              "<style scoped>\n",
              "    .dataframe tbody tr th:only-of-type {\n",
              "        vertical-align: middle;\n",
              "    }\n",
              "\n",
              "    .dataframe tbody tr th {\n",
              "        vertical-align: top;\n",
              "    }\n",
              "\n",
              "    .dataframe thead th {\n",
              "        text-align: right;\n",
              "    }\n",
              "</style>\n",
              "<table border=\"1\" class=\"dataframe\">\n",
              "  <thead>\n",
              "    <tr style=\"text-align: right;\">\n",
              "      <th></th>\n",
              "      <th>Survived</th>\n",
              "      <th>Pclass</th>\n",
              "      <th>Name</th>\n",
              "      <th>Sex</th>\n",
              "      <th>Age</th>\n",
              "      <th>Siblings/Spouses Aboard</th>\n",
              "      <th>Parents/Children Aboard</th>\n",
              "      <th>Fare</th>\n",
              "    </tr>\n",
              "  </thead>\n",
              "  <tbody>\n",
              "    <tr>\n",
              "      <th>0</th>\n",
              "      <td>0</td>\n",
              "      <td>3</td>\n",
              "      <td>Mr. Owen Harris Braund</td>\n",
              "      <td>male</td>\n",
              "      <td>22</td>\n",
              "      <td>1</td>\n",
              "      <td>0</td>\n",
              "      <td>7.2500</td>\n",
              "    </tr>\n",
              "    <tr>\n",
              "      <th>1</th>\n",
              "      <td>1</td>\n",
              "      <td>1</td>\n",
              "      <td>Mrs. John Bradley (Florence Briggs Thayer) Cum...</td>\n",
              "      <td>female</td>\n",
              "      <td>38</td>\n",
              "      <td>1</td>\n",
              "      <td>0</td>\n",
              "      <td>71.2833</td>\n",
              "    </tr>\n",
              "    <tr>\n",
              "      <th>2</th>\n",
              "      <td>1</td>\n",
              "      <td>3</td>\n",
              "      <td>Miss. Laina Heikkinen</td>\n",
              "      <td>female</td>\n",
              "      <td>26</td>\n",
              "      <td>0</td>\n",
              "      <td>0</td>\n",
              "      <td>7.9250</td>\n",
              "    </tr>\n",
              "    <tr>\n",
              "      <th>3</th>\n",
              "      <td>1</td>\n",
              "      <td>1</td>\n",
              "      <td>Mrs. Jacques Heath (Lily May Peel) Futrelle</td>\n",
              "      <td>female</td>\n",
              "      <td>35</td>\n",
              "      <td>1</td>\n",
              "      <td>0</td>\n",
              "      <td>53.1000</td>\n",
              "    </tr>\n",
              "    <tr>\n",
              "      <th>4</th>\n",
              "      <td>0</td>\n",
              "      <td>3</td>\n",
              "      <td>Mr. William Henry Allen</td>\n",
              "      <td>male</td>\n",
              "      <td>35</td>\n",
              "      <td>0</td>\n",
              "      <td>0</td>\n",
              "      <td>8.0500</td>\n",
              "    </tr>\n",
              "  </tbody>\n",
              "</table>\n",
              "</div>"
            ],
            "text/plain": [
              "   Survived  Pclass  ... Parents/Children Aboard     Fare\n",
              "0         0       3  ...                       0   7.2500\n",
              "1         1       1  ...                       0  71.2833\n",
              "2         1       3  ...                       0   7.9250\n",
              "3         1       1  ...                       0  53.1000\n",
              "4         0       3  ...                       0   8.0500\n",
              "\n",
              "[5 rows x 8 columns]"
            ]
          },
          "metadata": {
            "tags": []
          },
          "execution_count": 3
        }
      ]
    },
    {
      "cell_type": "code",
      "metadata": {
        "id": "99BTVIYtQsKA",
        "colab_type": "code",
        "colab": {
          "base_uri": "https://localhost:8080/",
          "height": 254
        },
        "outputId": "14872978-73a1-4e90-d47a-9eb4fa1492fb"
      },
      "source": [
        "df.info()"
      ],
      "execution_count": 4,
      "outputs": [
        {
          "output_type": "stream",
          "text": [
            "<class 'pandas.core.frame.DataFrame'>\n",
            "RangeIndex: 887 entries, 0 to 886\n",
            "Data columns (total 8 columns):\n",
            "Survived                   887 non-null int64\n",
            "Pclass                     887 non-null int64\n",
            "Name                       887 non-null object\n",
            "Sex                        887 non-null object\n",
            "Age                        887 non-null int64\n",
            "Siblings/Spouses Aboard    887 non-null int64\n",
            "Parents/Children Aboard    887 non-null int64\n",
            "Fare                       887 non-null float64\n",
            "dtypes: float64(1), int64(5), object(2)\n",
            "memory usage: 55.5+ KB\n"
          ],
          "name": "stdout"
        }
      ]
    },
    {
      "cell_type": "code",
      "metadata": {
        "id": "rU1y1CjCJRDA",
        "colab_type": "code",
        "colab": {}
      },
      "source": [
        "def gen_row_tuples(df):\n",
        "  rows = [] \n",
        "  for idx, vals in df.iterrows():\n",
        "    row = [idx]\n",
        "    for val in vals.values:\n",
        "      row.append(val)\n",
        "    row = tuple(row)\n",
        "    rows.append(row)\n",
        "  return rows"
      ],
      "execution_count": 0,
      "outputs": []
    },
    {
      "cell_type": "code",
      "metadata": {
        "id": "cGqBLffTLz8o",
        "colab_type": "code",
        "colab": {
          "base_uri": "https://localhost:8080/",
          "height": 35
        },
        "outputId": "9791128a-85f9-4e47-8818-4e93a7a663ac"
      },
      "source": [
        "titanic_row_tuples = gen_row_tuples(df)\n",
        "titanic_row_tuples[0]"
      ],
      "execution_count": 6,
      "outputs": [
        {
          "output_type": "execute_result",
          "data": {
            "text/plain": [
              "(28, 1, 3, 'Miss. Ellen ODwyer', 'female', 24, 0, 0, 7.8792)"
            ]
          },
          "metadata": {
            "tags": []
          },
          "execution_count": 6
        }
      ]
    },
    {
      "cell_type": "code",
      "metadata": {
        "id": "2xZn5zDyPTV_",
        "colab_type": "code",
        "colab": {}
      },
      "source": [
        "dbname = 'mhodwfds'\n",
        "user = 'mhodwfds'\n",
        "password = 'v8dvWGf-qAVfuz3f9042cAMpVX-7ZNMS'\n",
        "host = 'raja.db.elephantsql.com'\n",
        "\n",
        "pg_conn = psycopg2.connect(dbname=dbname, user=user,\n",
        "                           password=password, host=host)\n",
        "\n",
        "pg_curs = pg_conn.cursor()"
      ],
      "execution_count": 0,
      "outputs": []
    },
    {
      "cell_type": "code",
      "metadata": {
        "id": "rE_qPqZMHYl2",
        "colab_type": "code",
        "colab": {}
      },
      "source": [
        "pg_curs.execute(\"DROP TABLE IF EXISTS titanic\")\n",
        "\n",
        "create_titanic_table = \"\"\"\n",
        "CREATE TABLE titanic (\n",
        "  index SERIAL PRIMARY KEY,\n",
        "  survived INT,\n",
        "  pclass INT,\n",
        "  name VARCHAR(85),\n",
        "  sex VARCHAR(10),\n",
        "  age INT,\n",
        "  sibs_spouse INT,\n",
        "  par_child INT,\n",
        "  fare REAL\n",
        ")\n",
        "\"\"\"\n",
        "\n",
        "pg_curs.execute(create_titanic_table)"
      ],
      "execution_count": 0,
      "outputs": []
    },
    {
      "cell_type": "code",
      "metadata": {
        "id": "3nvXTyH6N1sD",
        "colab_type": "code",
        "colab": {}
      },
      "source": [
        "for row in titanic_row_tuples:\n",
        "  insert_row = \"INSERT INTO titanic VALUES\" + str(row)\n",
        "  pg_curs.execute(insert_row)\n",
        "pg_conn.commit()"
      ],
      "execution_count": 0,
      "outputs": []
    },
    {
      "cell_type": "code",
      "metadata": {
        "id": "M-ynppQoH-b5",
        "colab_type": "code",
        "colab": {}
      },
      "source": [
        "pg_curs = pg_conn.cursor()\n",
        "pg_curs.execute('SELECT * FROM titanic')\n",
        "pg_titanic = pg_curs.fetchall()"
      ],
      "execution_count": 0,
      "outputs": []
    },
    {
      "cell_type": "code",
      "metadata": {
        "id": "BBSgrxiidTk-",
        "colab_type": "code",
        "colab": {
          "base_uri": "https://localhost:8080/",
          "height": 399
        },
        "outputId": "d90dcf9b-0989-4f30-c210-aa922f0bc8d4"
      },
      "source": [
        "pg_titanic[:5]"
      ],
      "execution_count": 12,
      "outputs": [
        {
          "output_type": "execute_result",
          "data": {
            "text/plain": [
              "[(0, 0, 3, 'Mr. Owen Harris Braund', 'male', 22, 1, 0, 7.25),\n",
              " (1,\n",
              "  1,\n",
              "  1,\n",
              "  'Mrs. John Bradley (Florence Briggs Thayer) Cumings',\n",
              "  'female',\n",
              "  38,\n",
              "  1,\n",
              "  0,\n",
              "  71.2833),\n",
              " (2, 1, 3, 'Miss. Laina Heikkinen', 'female', 26, 0, 0, 7.925),\n",
              " (3,\n",
              "  1,\n",
              "  1,\n",
              "  'Mrs. Jacques Heath (Lily May Peel) Futrelle',\n",
              "  'female',\n",
              "  35,\n",
              "  1,\n",
              "  0,\n",
              "  53.1),\n",
              " (4, 0, 3, 'Mr. William Henry Allen', 'male', 35, 0, 0, 8.05)]"
            ]
          },
          "metadata": {
            "tags": []
          },
          "execution_count": 12
        }
      ]
    },
    {
      "cell_type": "code",
      "metadata": {
        "id": "8yecQ5xAmPoV",
        "colab_type": "code",
        "colab": {
          "base_uri": "https://localhost:8080/",
          "height": 35
        },
        "outputId": "ac45497c-51a2-4662-81ea-c0f6e238649e"
      },
      "source": [
        "#compare survival rates bw man and women:\n",
        "query = \"SELECT sex, ROUND(AVG(survived), 3) AS avg_survival_rate FROM titanic GROUP BY sex;\"\n",
        "pg_curs.execute(query)\n",
        "pg_curs.fetchall()"
      ],
      "execution_count": 15,
      "outputs": [
        {
          "output_type": "execute_result",
          "data": {
            "text/plain": [
              "[('female', Decimal('0.742')), ('male', Decimal('0.190'))]"
            ]
          },
          "metadata": {
            "tags": []
          },
          "execution_count": 15
        }
      ]
    },
    {
      "cell_type": "code",
      "metadata": {
        "id": "Qzpq5Assq8Vx",
        "colab_type": "code",
        "colab": {
          "base_uri": "https://localhost:8080/",
          "height": 35
        },
        "outputId": "3155065c-212d-48c7-cb30-a1148cb07240"
      },
      "source": [
        "#compare survival between pclass:\n",
        "query = \"SELECT pclass, ROUND(AVG(survived), 3) AS avg_survival_rate FROM titanic GROUP BY pclass;\"\n",
        "pg_curs.execute(query)\n",
        "pg_curs.fetchall()"
      ],
      "execution_count": 16,
      "outputs": [
        {
          "output_type": "execute_result",
          "data": {
            "text/plain": [
              "[(1, Decimal('0.630')), (3, Decimal('0.244')), (2, Decimal('0.473'))]"
            ]
          },
          "metadata": {
            "tags": []
          },
          "execution_count": 16
        }
      ]
    },
    {
      "cell_type": "code",
      "metadata": {
        "id": "rFH0UQ4grEgZ",
        "colab_type": "code",
        "colab": {
          "base_uri": "https://localhost:8080/",
          "height": 126
        },
        "outputId": "eccb0618-fef1-4c3c-dce0-5273c2d896c6"
      },
      "source": [
        "#compare survival across pclass and sex, and get the number in each category:\n",
        "query = \"SELECT pclass, sex, ROUND(AVG(survived), 3) AS avg_survival, COUNT(sex) FROM titanic GROUP BY pclass, sex;\"\n",
        "pg_curs.execute(query)\n",
        "pg_curs.fetchall()"
      ],
      "execution_count": 18,
      "outputs": [
        {
          "output_type": "execute_result",
          "data": {
            "text/plain": [
              "[(1, 'female', Decimal('0.968'), 94),\n",
              " (1, 'male', Decimal('0.369'), 122),\n",
              " (2, 'male', Decimal('0.157'), 108),\n",
              " (2, 'female', Decimal('0.921'), 76),\n",
              " (3, 'female', Decimal('0.500'), 144),\n",
              " (3, 'male', Decimal('0.137'), 343)]"
            ]
          },
          "metadata": {
            "tags": []
          },
          "execution_count": 18
        }
      ]
    }
  ]
}