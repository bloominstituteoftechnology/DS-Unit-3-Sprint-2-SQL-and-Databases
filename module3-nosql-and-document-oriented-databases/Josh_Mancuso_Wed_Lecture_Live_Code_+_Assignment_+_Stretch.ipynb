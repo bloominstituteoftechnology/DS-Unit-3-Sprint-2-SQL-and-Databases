{
  "nbformat": 4,
  "nbformat_minor": 0,
  "metadata": {
    "colab": {
      "name": "Josh_Mancuso_Wed_Lecture_Live_Code_+_Assignment_+_Stretch.ipynb",
      "version": "0.3.2",
      "provenance": [],
      "collapsed_sections": []
    },
    "kernelspec": {
      "name": "python3",
      "display_name": "Python 3"
    }
  },
  "cells": [
    {
      "cell_type": "markdown",
      "metadata": {
        "id": "HIuHUD9N0q66",
        "colab_type": "text"
      },
      "source": [
        "# MongoDB with PyMongo\n",
        "\n",
        "LSDS Unit 3 Sprint 2 Module 3\n",
        "\n",
        "Some resources:\n",
        "\n",
        "https://docs.atlas.mongodb.com/getting-started/\n",
        "\n",
        "https://api.mongodb.com/python/current/\n",
        "\n",
        "HN Discussion on MongoDB versus PostgreSQL/SQLite: https://news.ycombinator.com/item?id=19158854"
      ]
    },
    {
      "cell_type": "code",
      "metadata": {
        "id": "4v_h4qU3Qa9T",
        "colab_type": "code",
        "outputId": "666395a0-f7c8-46a3-e211-4269fb820ddf",
        "colab": {
          "base_uri": "https://localhost:8080/",
          "height": 35
        }
      },
      "source": [
        "!curl ipecho.net/plain"
      ],
      "execution_count": 1,
      "outputs": [
        {
          "output_type": "stream",
          "text": [
            "35.231.92.142"
          ],
          "name": "stdout"
        }
      ]
    },
    {
      "cell_type": "code",
      "metadata": {
        "id": "ygIzXAa8oxT3",
        "colab_type": "code",
        "colab": {}
      },
      "source": [
        "#!pip install pymongo\n",
        "import pymongo"
      ],
      "execution_count": 0,
      "outputs": []
    },
    {
      "cell_type": "code",
      "metadata": {
        "id": "o9ln2acUm9MG",
        "colab_type": "code",
        "colab": {}
      },
      "source": [
        "#3.4\n",
        "client = pymongo.MongoClient(\"mongodb://Nolanole:<password_redacted>#@cluster0-shard-00-00-g3koz.mongodb.net:27017,cluster0-shard-00-01-g3koz.mongodb.net:27017,cluster0-shard-00-02-g3koz.mongodb.net:27017/test?ssl=true&replicaSet=Cluster0-shard-0&authSource=admin&retryWrites=true&w=majority\")\n",
        "db = client.test"
      ],
      "execution_count": 0,
      "outputs": []
    },
    {
      "cell_type": "code",
      "metadata": {
        "id": "GOYUnRPXpPyi",
        "colab_type": "code",
        "outputId": "2a851618-47f5-4550-a8c3-2c136dda64ad",
        "colab": {
          "base_uri": "https://localhost:8080/",
          "height": 55
        }
      },
      "source": [
        "db"
      ],
      "execution_count": 4,
      "outputs": [
        {
          "output_type": "execute_result",
          "data": {
            "text/plain": [
              "Database(MongoClient(host=['cluster0-shard-00-01-g3koz.mongodb.net:27017', 'cluster0-shard-00-00-g3koz.mongodb.net:27017', 'cluster0-shard-00-02-g3koz.mongodb.net:27017'], document_class=dict, tz_aware=False, connect=True, ssl=True, replicaset='Cluster0-shard-0', authsource='admin', retrywrites=True, w='majority'), 'test')"
            ]
          },
          "metadata": {
            "tags": []
          },
          "execution_count": 4
        }
      ]
    },
    {
      "cell_type": "code",
      "metadata": {
        "id": "muofAGHMpQhd",
        "colab_type": "code",
        "outputId": "308a5c25-955a-423f-ee39-bfc477fa4884",
        "colab": {
          "base_uri": "https://localhost:8080/",
          "height": 35
        }
      },
      "source": [
        "client.nodes"
      ],
      "execution_count": 5,
      "outputs": [
        {
          "output_type": "execute_result",
          "data": {
            "text/plain": [
              "frozenset()"
            ]
          },
          "metadata": {
            "tags": []
          },
          "execution_count": 5
        }
      ]
    },
    {
      "cell_type": "code",
      "metadata": {
        "id": "v0y-zZu-qXDX",
        "colab_type": "code",
        "outputId": "72710af4-0fbf-430b-b3ed-d8057ea1ec05",
        "colab": {
          "base_uri": "https://localhost:8080/",
          "height": 55
        }
      },
      "source": [
        "db.test"
      ],
      "execution_count": 6,
      "outputs": [
        {
          "output_type": "execute_result",
          "data": {
            "text/plain": [
              "Collection(Database(MongoClient(host=['cluster0-shard-00-01-g3koz.mongodb.net:27017', 'cluster0-shard-00-00-g3koz.mongodb.net:27017', 'cluster0-shard-00-02-g3koz.mongodb.net:27017'], document_class=dict, tz_aware=False, connect=True, ssl=True, replicaset='Cluster0-shard-0', authsource='admin', retrywrites=True, w='majority'), 'test'), 'test')"
            ]
          },
          "metadata": {
            "tags": []
          },
          "execution_count": 6
        }
      ]
    },
    {
      "cell_type": "code",
      "metadata": {
        "id": "xHXMP2KCq_Xl",
        "colab_type": "code",
        "colab": {}
      },
      "source": [
        "#db.test.insert_one({'x':1})"
      ],
      "execution_count": 0,
      "outputs": []
    },
    {
      "cell_type": "code",
      "metadata": {
        "id": "PRjwCjHkrQ6C",
        "colab_type": "code",
        "outputId": "505881c6-4148-4ad5-a088-e614bad018c0",
        "colab": {
          "base_uri": "https://localhost:8080/",
          "height": 35
        }
      },
      "source": [
        "db.test.count_documents({'x':1})"
      ],
      "execution_count": 8,
      "outputs": [
        {
          "output_type": "execute_result",
          "data": {
            "text/plain": [
              "1"
            ]
          },
          "metadata": {
            "tags": []
          },
          "execution_count": 8
        }
      ]
    },
    {
      "cell_type": "code",
      "metadata": {
        "id": "gv_goYDTrUij",
        "colab_type": "code",
        "outputId": "04ce7f33-bcfe-4e7e-b798-ed137ca4d250",
        "colab": {
          "base_uri": "https://localhost:8080/",
          "height": 35
        }
      },
      "source": [
        "db.test.find()"
      ],
      "execution_count": 9,
      "outputs": [
        {
          "output_type": "execute_result",
          "data": {
            "text/plain": [
              "<pymongo.cursor.Cursor at 0x7ff972f8e5c0>"
            ]
          },
          "metadata": {
            "tags": []
          },
          "execution_count": 9
        }
      ]
    },
    {
      "cell_type": "code",
      "metadata": {
        "id": "oWbjm4pzrlIj",
        "colab_type": "code",
        "colab": {}
      },
      "source": [
        "artins_doc = {'fav_animal': 'silver panther'}"
      ],
      "execution_count": 0,
      "outputs": []
    },
    {
      "cell_type": "code",
      "metadata": {
        "id": "bTIQq2a5sBAK",
        "colab_type": "code",
        "outputId": "d215f0da-a463-48ab-f4f0-b0d343b54c14",
        "colab": {
          "base_uri": "https://localhost:8080/",
          "height": 35
        }
      },
      "source": [
        "db.test.insert_one(artins_doc)"
      ],
      "execution_count": 11,
      "outputs": [
        {
          "output_type": "execute_result",
          "data": {
            "text/plain": [
              "<pymongo.results.InsertOneResult at 0x7ff968f2d3c8>"
            ]
          },
          "metadata": {
            "tags": []
          },
          "execution_count": 11
        }
      ]
    },
    {
      "cell_type": "code",
      "metadata": {
        "id": "Zk0d3SIisGRr",
        "colab_type": "code",
        "outputId": "da50cb74-e938-40f7-a254-a1ebbce0b147",
        "colab": {
          "base_uri": "https://localhost:8080/",
          "height": 35
        }
      },
      "source": [
        "db.test.find_one(artins_doc)"
      ],
      "execution_count": 12,
      "outputs": [
        {
          "output_type": "execute_result",
          "data": {
            "text/plain": [
              "{'_id': ObjectId('5cf8424ca48a52d3f3dd2a68'), 'fav_animal': 'silver panther'}"
            ]
          },
          "metadata": {
            "tags": []
          },
          "execution_count": 12
        }
      ]
    },
    {
      "cell_type": "code",
      "metadata": {
        "id": "CzsMEyyosJeX",
        "colab_type": "code",
        "colab": {
          "base_uri": "https://localhost:8080/",
          "height": 54
        },
        "outputId": "3e4c7345-2776-4263-f2a9-6b7aa9636f8c"
      },
      "source": [
        "results = db.test.find()\n",
        "list(results)[:2]"
      ],
      "execution_count": 34,
      "outputs": [
        {
          "output_type": "execute_result",
          "data": {
            "text/plain": [
              "[{'_id': ObjectId('5cf7fb27280fa10036ab7af2'), 'x': 1},\n",
              " {'_id': ObjectId('5cf7fbfe280fa10036ab7af3'), 'fav_animal': 'silver panther'}]"
            ]
          },
          "metadata": {
            "tags": []
          },
          "execution_count": 34
        }
      ]
    },
    {
      "cell_type": "code",
      "metadata": {
        "id": "P7qwYoYjscYt",
        "colab_type": "code",
        "outputId": "dcebbe6f-4dfe-447b-b1b8-6f799a0d2ef6",
        "colab": {
          "base_uri": "https://localhost:8080/",
          "height": 35
        }
      },
      "source": [
        "alex_doc = {'fav_animal': 'parrot'}\n",
        "wills_doc = {'fav_animal': 'goose'}\n",
        "\n",
        "db.test.insert_one(alex_doc)\n",
        "db.test.insert_one(wills_doc)"
      ],
      "execution_count": 14,
      "outputs": [
        {
          "output_type": "execute_result",
          "data": {
            "text/plain": [
              "<pymongo.results.InsertOneResult at 0x7ff9669b7fc8>"
            ]
          },
          "metadata": {
            "tags": []
          },
          "execution_count": 14
        }
      ]
    },
    {
      "cell_type": "code",
      "metadata": {
        "id": "mirX5Au8tV3c",
        "colab_type": "code",
        "outputId": "ced41556-526d-450b-ecb2-7db176fe4141",
        "colab": {
          "base_uri": "https://localhost:8080/",
          "height": 199
        }
      },
      "source": [
        "docs = []\n",
        "for i in range(10):\n",
        "  doc = {'even': i % 2 == 0}\n",
        "  doc['value'] = i\n",
        "  docs.append(doc)\n",
        "  \n",
        "docs"
      ],
      "execution_count": 15,
      "outputs": [
        {
          "output_type": "execute_result",
          "data": {
            "text/plain": [
              "[{'even': True, 'value': 0},\n",
              " {'even': False, 'value': 1},\n",
              " {'even': True, 'value': 2},\n",
              " {'even': False, 'value': 3},\n",
              " {'even': True, 'value': 4},\n",
              " {'even': False, 'value': 5},\n",
              " {'even': True, 'value': 6},\n",
              " {'even': False, 'value': 7},\n",
              " {'even': True, 'value': 8},\n",
              " {'even': False, 'value': 9}]"
            ]
          },
          "metadata": {
            "tags": []
          },
          "execution_count": 15
        }
      ]
    },
    {
      "cell_type": "code",
      "metadata": {
        "id": "Q3gGvDvCtpPv",
        "colab_type": "code",
        "outputId": "63c900a1-4cd7-4d69-be37-f83562b32bde",
        "colab": {
          "base_uri": "https://localhost:8080/",
          "height": 35
        }
      },
      "source": [
        "db.test.insert_many(docs)"
      ],
      "execution_count": 16,
      "outputs": [
        {
          "output_type": "execute_result",
          "data": {
            "text/plain": [
              "<pymongo.results.InsertManyResult at 0x7ff968f20e88>"
            ]
          },
          "metadata": {
            "tags": []
          },
          "execution_count": 16
        }
      ]
    },
    {
      "cell_type": "code",
      "metadata": {
        "id": "uJIeAFeGttx-",
        "colab_type": "code",
        "outputId": "d738a621-f922-4870-c7f1-877c220cc5e1",
        "colab": {
          "base_uri": "https://localhost:8080/",
          "height": 272
        }
      },
      "source": [
        "list(db.test.find())[:14]"
      ],
      "execution_count": 37,
      "outputs": [
        {
          "output_type": "execute_result",
          "data": {
            "text/plain": [
              "[{'_id': ObjectId('5cf7fb27280fa10036ab7af2'), 'x': 1},\n",
              " {'_id': ObjectId('5cf7fbfe280fa10036ab7af3'), 'fav_animal': 'silver panther'},\n",
              " {'_id': ObjectId('5cf7fd47280fa10036ab7af4'), 'fav_animal': 'parrot'},\n",
              " {'_id': ObjectId('5cf7fd47280fa10036ab7af5'), 'fav_animal': 'goose'},\n",
              " {'_id': ObjectId('5cf7fda9280fa10036ab7af6'), 'even': True, 'value': 0},\n",
              " {'_id': ObjectId('5cf7fda9280fa10036ab7af7'), 'even': False, 'value': 1},\n",
              " {'_id': ObjectId('5cf7fda9280fa10036ab7af8'), 'even': True, 'value': 2},\n",
              " {'_id': ObjectId('5cf7fda9280fa10036ab7af9'), 'even': False, 'value': 3},\n",
              " {'_id': ObjectId('5cf7fda9280fa10036ab7afa'), 'even': True, 'value': 4},\n",
              " {'_id': ObjectId('5cf7fda9280fa10036ab7afb'), 'even': False, 'value': 5},\n",
              " {'_id': ObjectId('5cf7fda9280fa10036ab7afc'), 'even': True, 'value': 6},\n",
              " {'_id': ObjectId('5cf7fda9280fa10036ab7afd'), 'even': False, 'value': 7},\n",
              " {'_id': ObjectId('5cf7fda9280fa10036ab7afe'), 'even': True, 'value': 8},\n",
              " {'_id': ObjectId('5cf7fda9280fa10036ab7aff'), 'even': False, 'value': 9}]"
            ]
          },
          "metadata": {
            "tags": []
          },
          "execution_count": 37
        }
      ]
    },
    {
      "cell_type": "code",
      "metadata": {
        "id": "RRly8M6Etwli",
        "colab_type": "code",
        "outputId": "71f32e8c-fdc7-4afc-ebb8-2d626660bd95",
        "colab": {
          "base_uri": "https://localhost:8080/",
          "height": 108
        }
      },
      "source": [
        "list(db.test.find({'even': True}))[:5]"
      ],
      "execution_count": 38,
      "outputs": [
        {
          "output_type": "execute_result",
          "data": {
            "text/plain": [
              "[{'_id': ObjectId('5cf7fda9280fa10036ab7af6'), 'even': True, 'value': 0},\n",
              " {'_id': ObjectId('5cf7fda9280fa10036ab7af8'), 'even': True, 'value': 2},\n",
              " {'_id': ObjectId('5cf7fda9280fa10036ab7afa'), 'even': True, 'value': 4},\n",
              " {'_id': ObjectId('5cf7fda9280fa10036ab7afc'), 'even': True, 'value': 6},\n",
              " {'_id': ObjectId('5cf7fda9280fa10036ab7afe'), 'even': True, 'value': 8}]"
            ]
          },
          "metadata": {
            "tags": []
          },
          "execution_count": 38
        }
      ]
    },
    {
      "cell_type": "code",
      "metadata": {
        "id": "GNLsG3Slt2UZ",
        "colab_type": "code",
        "outputId": "5afea631-83fb-4ed4-8141-a4b2b5a89f85",
        "colab": {
          "base_uri": "https://localhost:8080/",
          "height": 108
        }
      },
      "source": [
        "list (db.test.find({'even':False}))[:5]"
      ],
      "execution_count": 39,
      "outputs": [
        {
          "output_type": "execute_result",
          "data": {
            "text/plain": [
              "[{'_id': ObjectId('5cf7fda9280fa10036ab7af7'), 'even': False, 'value': 1},\n",
              " {'_id': ObjectId('5cf7fda9280fa10036ab7af9'), 'even': False, 'value': 3},\n",
              " {'_id': ObjectId('5cf7fda9280fa10036ab7afb'), 'even': False, 'value': 5},\n",
              " {'_id': ObjectId('5cf7fda9280fa10036ab7afd'), 'even': False, 'value': 7},\n",
              " {'_id': ObjectId('5cf7fda9280fa10036ab7aff'), 'even': False, 'value': 9}]"
            ]
          },
          "metadata": {
            "tags": []
          },
          "execution_count": 39
        }
      ]
    },
    {
      "cell_type": "code",
      "metadata": {
        "id": "_ElpoCXgt8Ec",
        "colab_type": "code",
        "colab": {}
      },
      "source": [
        "cool_dict = {\n",
        "    'awesome' :True,\n",
        "    'even': False,\n",
        "    'some_nums': [1,2,3],\n",
        "    (3,4): (5,6)\n",
        "}"
      ],
      "execution_count": 0,
      "outputs": []
    },
    {
      "cell_type": "code",
      "metadata": {
        "id": "a2U00-v3uOg-",
        "colab_type": "code",
        "outputId": "d7a8e526-d017-4a5b-a257-f95198f64ab2",
        "colab": {
          "base_uri": "https://localhost:8080/",
          "height": 35
        }
      },
      "source": [
        "fixed_dict = {str(key): value for key,value in cool_dict.items()}\n",
        "fixed_dict"
      ],
      "execution_count": 21,
      "outputs": [
        {
          "output_type": "execute_result",
          "data": {
            "text/plain": [
              "{'(3, 4)': (5, 6), 'awesome': True, 'even': False, 'some_nums': [1, 2, 3]}"
            ]
          },
          "metadata": {
            "tags": []
          },
          "execution_count": 21
        }
      ]
    },
    {
      "cell_type": "code",
      "metadata": {
        "id": "NhY3k0e4utsw",
        "colab_type": "code",
        "outputId": "0f92a319-54b8-413e-c34e-289ae92e7793",
        "colab": {
          "base_uri": "https://localhost:8080/",
          "height": 35
        }
      },
      "source": [
        "db.test.insert_one(fixed_dict)"
      ],
      "execution_count": 22,
      "outputs": [
        {
          "output_type": "execute_result",
          "data": {
            "text/plain": [
              "<pymongo.results.InsertOneResult at 0x7ff968f2d608>"
            ]
          },
          "metadata": {
            "tags": []
          },
          "execution_count": 22
        }
      ]
    },
    {
      "cell_type": "code",
      "metadata": {
        "id": "O_lafsVguyPn",
        "colab_type": "code",
        "outputId": "b6f48c77-7af1-41ed-9cbb-d7c2684c323b",
        "colab": {
          "base_uri": "https://localhost:8080/",
          "height": 363
        }
      },
      "source": [
        "list(db.test.find())[:15]"
      ],
      "execution_count": 40,
      "outputs": [
        {
          "output_type": "execute_result",
          "data": {
            "text/plain": [
              "[{'_id': ObjectId('5cf7fb27280fa10036ab7af2'), 'x': 1},\n",
              " {'_id': ObjectId('5cf7fbfe280fa10036ab7af3'), 'fav_animal': 'silver panther'},\n",
              " {'_id': ObjectId('5cf7fd47280fa10036ab7af4'), 'fav_animal': 'parrot'},\n",
              " {'_id': ObjectId('5cf7fd47280fa10036ab7af5'), 'fav_animal': 'goose'},\n",
              " {'_id': ObjectId('5cf7fda9280fa10036ab7af6'), 'even': True, 'value': 0},\n",
              " {'_id': ObjectId('5cf7fda9280fa10036ab7af7'), 'even': False, 'value': 1},\n",
              " {'_id': ObjectId('5cf7fda9280fa10036ab7af8'), 'even': True, 'value': 2},\n",
              " {'_id': ObjectId('5cf7fda9280fa10036ab7af9'), 'even': False, 'value': 3},\n",
              " {'_id': ObjectId('5cf7fda9280fa10036ab7afa'), 'even': True, 'value': 4},\n",
              " {'_id': ObjectId('5cf7fda9280fa10036ab7afb'), 'even': False, 'value': 5},\n",
              " {'_id': ObjectId('5cf7fda9280fa10036ab7afc'), 'even': True, 'value': 6},\n",
              " {'_id': ObjectId('5cf7fda9280fa10036ab7afd'), 'even': False, 'value': 7},\n",
              " {'_id': ObjectId('5cf7fda9280fa10036ab7afe'), 'even': True, 'value': 8},\n",
              " {'_id': ObjectId('5cf7fda9280fa10036ab7aff'), 'even': False, 'value': 9},\n",
              " {'(3, 4)': [5, 6],\n",
              "  '_id': ObjectId('5cf7fec1280fa10036ab7b00'),\n",
              "  'awesome': True,\n",
              "  'even': False,\n",
              "  'some_nums': [1, 2, 3]}]"
            ]
          },
          "metadata": {
            "tags": []
          },
          "execution_count": 40
        }
      ]
    },
    {
      "cell_type": "markdown",
      "metadata": {
        "id": "beo5kwJrKTqA",
        "colab_type": "text"
      },
      "source": [
        "##Assignment"
      ]
    },
    {
      "cell_type": "markdown",
      "metadata": {
        "id": "VLcrS-nWKhho",
        "colab_type": "text"
      },
      "source": [
        "###\"How was working with MongoDB different from working with PostgreSQL? What was easier, and what was harder?\""
      ]
    },
    {
      "cell_type": "markdown",
      "metadata": {
        "id": "FKAHjHdiKmzv",
        "colab_type": "text"
      },
      "source": [
        "I was able to pretty easily get the titanic data converted into python dictionary and then easily inserted with the db.test.insert_many() method. With postgresql yesterday I had a lot more debugging and roadblocks getting the date uploaded/inserted. Also there was no isseue w/ declaring datatypes or string formatting (removing apostrophes from names, for example) w/ MongoDB as opposed to postgresql. However, MongoDB seems to be more difficult to query, at least as far as I know how or can tell. I made a couple of example queries below, but they basically only use python and no SQL (not sure if this is the correct way to do this)."
      ]
    },
    {
      "cell_type": "markdown",
      "metadata": {
        "id": "GtG2pF_qE64t",
        "colab_type": "text"
      },
      "source": [
        "##Stretch Goal: Insert Titanic Data into MongoDB"
      ]
    },
    {
      "cell_type": "code",
      "metadata": {
        "id": "cnm-cPqQu1fV",
        "colab_type": "code",
        "outputId": "19289d65-e0d1-4ca6-f56a-56c785c1199c",
        "colab": {
          "base_uri": "https://localhost:8080/",
          "height": 233
        }
      },
      "source": [
        "import pandas as pd\n",
        "url = 'https://raw.githubusercontent.com/LambdaSchool/DS-Unit-3-Sprint-2-SQL-and-Databases/master/module2-sql-for-analysis/titanic.csv'\n",
        "df = pd.read_csv(url)\n",
        "df.Age = df.Age.astype('int')\n",
        "df.head()"
      ],
      "execution_count": 24,
      "outputs": [
        {
          "output_type": "execute_result",
          "data": {
            "text/html": [
              "<div>\n",
              "<style scoped>\n",
              "    .dataframe tbody tr th:only-of-type {\n",
              "        vertical-align: middle;\n",
              "    }\n",
              "\n",
              "    .dataframe tbody tr th {\n",
              "        vertical-align: top;\n",
              "    }\n",
              "\n",
              "    .dataframe thead th {\n",
              "        text-align: right;\n",
              "    }\n",
              "</style>\n",
              "<table border=\"1\" class=\"dataframe\">\n",
              "  <thead>\n",
              "    <tr style=\"text-align: right;\">\n",
              "      <th></th>\n",
              "      <th>Survived</th>\n",
              "      <th>Pclass</th>\n",
              "      <th>Name</th>\n",
              "      <th>Sex</th>\n",
              "      <th>Age</th>\n",
              "      <th>Siblings/Spouses Aboard</th>\n",
              "      <th>Parents/Children Aboard</th>\n",
              "      <th>Fare</th>\n",
              "    </tr>\n",
              "  </thead>\n",
              "  <tbody>\n",
              "    <tr>\n",
              "      <th>0</th>\n",
              "      <td>0</td>\n",
              "      <td>3</td>\n",
              "      <td>Mr. Owen Harris Braund</td>\n",
              "      <td>male</td>\n",
              "      <td>22</td>\n",
              "      <td>1</td>\n",
              "      <td>0</td>\n",
              "      <td>7.2500</td>\n",
              "    </tr>\n",
              "    <tr>\n",
              "      <th>1</th>\n",
              "      <td>1</td>\n",
              "      <td>1</td>\n",
              "      <td>Mrs. John Bradley (Florence Briggs Thayer) Cum...</td>\n",
              "      <td>female</td>\n",
              "      <td>38</td>\n",
              "      <td>1</td>\n",
              "      <td>0</td>\n",
              "      <td>71.2833</td>\n",
              "    </tr>\n",
              "    <tr>\n",
              "      <th>2</th>\n",
              "      <td>1</td>\n",
              "      <td>3</td>\n",
              "      <td>Miss. Laina Heikkinen</td>\n",
              "      <td>female</td>\n",
              "      <td>26</td>\n",
              "      <td>0</td>\n",
              "      <td>0</td>\n",
              "      <td>7.9250</td>\n",
              "    </tr>\n",
              "    <tr>\n",
              "      <th>3</th>\n",
              "      <td>1</td>\n",
              "      <td>1</td>\n",
              "      <td>Mrs. Jacques Heath (Lily May Peel) Futrelle</td>\n",
              "      <td>female</td>\n",
              "      <td>35</td>\n",
              "      <td>1</td>\n",
              "      <td>0</td>\n",
              "      <td>53.1000</td>\n",
              "    </tr>\n",
              "    <tr>\n",
              "      <th>4</th>\n",
              "      <td>0</td>\n",
              "      <td>3</td>\n",
              "      <td>Mr. William Henry Allen</td>\n",
              "      <td>male</td>\n",
              "      <td>35</td>\n",
              "      <td>0</td>\n",
              "      <td>0</td>\n",
              "      <td>8.0500</td>\n",
              "    </tr>\n",
              "  </tbody>\n",
              "</table>\n",
              "</div>"
            ],
            "text/plain": [
              "   Survived  Pclass  ... Parents/Children Aboard     Fare\n",
              "0         0       3  ...                       0   7.2500\n",
              "1         1       1  ...                       0  71.2833\n",
              "2         1       3  ...                       0   7.9250\n",
              "3         1       1  ...                       0  53.1000\n",
              "4         0       3  ...                       0   8.0500\n",
              "\n",
              "[5 rows x 8 columns]"
            ]
          },
          "metadata": {
            "tags": []
          },
          "execution_count": 24
        }
      ]
    },
    {
      "cell_type": "code",
      "metadata": {
        "id": "siGDrA-iFqHg",
        "colab_type": "code",
        "outputId": "e6c8ba30-0f25-4d55-b8ac-aa4aa03e35aa",
        "colab": {
          "base_uri": "https://localhost:8080/",
          "height": 35
        }
      },
      "source": [
        "df.shape"
      ],
      "execution_count": 25,
      "outputs": [
        {
          "output_type": "execute_result",
          "data": {
            "text/plain": [
              "(887, 8)"
            ]
          },
          "metadata": {
            "tags": []
          },
          "execution_count": 25
        }
      ]
    },
    {
      "cell_type": "code",
      "metadata": {
        "id": "TLz9STELFw0u",
        "colab_type": "code",
        "colab": {}
      },
      "source": [
        "def gen_titanic_dict(df):\n",
        "  keys = df.columns.tolist()\n",
        "  rows = [] \n",
        "  for idx, vals in df.iterrows():\n",
        "    row = {'index': idx}\n",
        "    for i in range(len(keys)):\n",
        "      row[keys[i]] = vals.values[i]\n",
        "    rows.append(row)\n",
        "  return rows\n",
        "          \n",
        "titanic_dict = gen_titanic_dict(df)"
      ],
      "execution_count": 0,
      "outputs": []
    },
    {
      "cell_type": "code",
      "metadata": {
        "id": "KOWN1nclGte0",
        "colab_type": "code",
        "outputId": "18527ad6-342e-4cfa-d243-a0e2ca841558",
        "colab": {
          "base_uri": "https://localhost:8080/",
          "height": 35
        }
      },
      "source": [
        "len(titanic_dict)"
      ],
      "execution_count": 27,
      "outputs": [
        {
          "output_type": "execute_result",
          "data": {
            "text/plain": [
              "887"
            ]
          },
          "metadata": {
            "tags": []
          },
          "execution_count": 27
        }
      ]
    },
    {
      "cell_type": "code",
      "metadata": {
        "id": "JJs7H9ZNIC12",
        "colab_type": "code",
        "outputId": "10289206-2670-4e20-e3f9-ee486e453ecf",
        "colab": {
          "base_uri": "https://localhost:8080/",
          "height": 35
        }
      },
      "source": [
        "db.test.insert_many(titanic_dict)"
      ],
      "execution_count": 28,
      "outputs": [
        {
          "output_type": "execute_result",
          "data": {
            "text/plain": [
              "<pymongo.results.InsertManyResult at 0x7ff964f86688>"
            ]
          },
          "metadata": {
            "tags": []
          },
          "execution_count": 28
        }
      ]
    },
    {
      "cell_type": "code",
      "metadata": {
        "id": "mRortf_mJxeJ",
        "colab_type": "code",
        "outputId": "881c1ffe-1218-48d4-e638-8111b7bc85a3",
        "colab": {
          "base_uri": "https://localhost:8080/",
          "height": 926
        }
      },
      "source": [
        "titanic_dict[:5]"
      ],
      "execution_count": 29,
      "outputs": [
        {
          "output_type": "execute_result",
          "data": {
            "text/plain": [
              "[{'Age': 22,\n",
              "  'Fare': 7.25,\n",
              "  'Name': 'Mr. Owen Harris Braund',\n",
              "  'Parents/Children Aboard': 0,\n",
              "  'Pclass': 3,\n",
              "  'Sex': 'male',\n",
              "  'Siblings/Spouses Aboard': 1,\n",
              "  'Survived': 0,\n",
              "  '_id': ObjectId('5cf8424ea48a52d3f3dd2a76'),\n",
              "  'index': 0},\n",
              " {'Age': 38,\n",
              "  'Fare': 71.2833,\n",
              "  'Name': 'Mrs. John Bradley (Florence Briggs Thayer) Cumings',\n",
              "  'Parents/Children Aboard': 0,\n",
              "  'Pclass': 1,\n",
              "  'Sex': 'female',\n",
              "  'Siblings/Spouses Aboard': 1,\n",
              "  'Survived': 1,\n",
              "  '_id': ObjectId('5cf8424ea48a52d3f3dd2a77'),\n",
              "  'index': 1},\n",
              " {'Age': 26,\n",
              "  'Fare': 7.925,\n",
              "  'Name': 'Miss. Laina Heikkinen',\n",
              "  'Parents/Children Aboard': 0,\n",
              "  'Pclass': 3,\n",
              "  'Sex': 'female',\n",
              "  'Siblings/Spouses Aboard': 0,\n",
              "  'Survived': 1,\n",
              "  '_id': ObjectId('5cf8424ea48a52d3f3dd2a78'),\n",
              "  'index': 2},\n",
              " {'Age': 35,\n",
              "  'Fare': 53.1,\n",
              "  'Name': 'Mrs. Jacques Heath (Lily May Peel) Futrelle',\n",
              "  'Parents/Children Aboard': 0,\n",
              "  'Pclass': 1,\n",
              "  'Sex': 'female',\n",
              "  'Siblings/Spouses Aboard': 1,\n",
              "  'Survived': 1,\n",
              "  '_id': ObjectId('5cf8424ea48a52d3f3dd2a79'),\n",
              "  'index': 3},\n",
              " {'Age': 35,\n",
              "  'Fare': 8.05,\n",
              "  'Name': 'Mr. William Henry Allen',\n",
              "  'Parents/Children Aboard': 0,\n",
              "  'Pclass': 3,\n",
              "  'Sex': 'male',\n",
              "  'Siblings/Spouses Aboard': 0,\n",
              "  'Survived': 0,\n",
              "  '_id': ObjectId('5cf8424ea48a52d3f3dd2a7a'),\n",
              "  'index': 4}]"
            ]
          },
          "metadata": {
            "tags": []
          },
          "execution_count": 29
        }
      ]
    },
    {
      "cell_type": "markdown",
      "metadata": {
        "id": "9rs80aRdMGOW",
        "colab_type": "text"
      },
      "source": [
        "###Example Queries:"
      ]
    },
    {
      "cell_type": "code",
      "metadata": {
        "id": "3ex3vO5YIQzl",
        "colab_type": "code",
        "outputId": "70a2839e-f1d8-4d80-93ab-3904417b7e55",
        "colab": {
          "base_uri": "https://localhost:8080/",
          "height": 54
        }
      },
      "source": [
        "#Find the number of males who survived:\n",
        "\n",
        "print('Male survivors: ' + str(len(list(db.test.find({'Sex':'male', 'Survived': 1})))))\n",
        "print('Males who did not survive: ' + str(len(list(db.test.find({'Sex':'male', 'Survived': 0})))))"
      ],
      "execution_count": 30,
      "outputs": [
        {
          "output_type": "stream",
          "text": [
            "Male survivors: 218\n",
            "Males who did not survive: 928\n"
          ],
          "name": "stdout"
        }
      ]
    },
    {
      "cell_type": "code",
      "metadata": {
        "id": "3sr5vLWqLY_p",
        "colab_type": "code",
        "outputId": "789e8ba7-3933-468b-c6ce-326d0cb90677",
        "colab": {
          "base_uri": "https://localhost:8080/",
          "height": 54
        }
      },
      "source": [
        "#Find the number of females who survived:\n",
        "print('Female survivors: ' + str(len(list(db.test.find({'Sex':'female', 'Survived': 1})))))\n",
        "print('Females who did not survive: ' + str(len(list(db.test.find({'Sex':'female', 'Survived': 0})))))"
      ],
      "execution_count": 31,
      "outputs": [
        {
          "output_type": "stream",
          "text": [
            "Female survivors: 466\n",
            "Females who did not survive: 162\n"
          ],
          "name": "stdout"
        }
      ]
    }
  ]
}